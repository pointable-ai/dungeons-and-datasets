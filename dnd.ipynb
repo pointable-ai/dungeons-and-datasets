{
 "cells": [
  {
   "cell_type": "code",
   "execution_count": null,
   "metadata": {},
   "outputs": [],
   "source": [
    "!unzip data.zip -d data/"
   ]
  },
  {
   "cell_type": "code",
   "execution_count": null,
   "metadata": {},
   "outputs": [],
   "source": [
    "# we're going to write a utility function to flatten out the entries\n",
    "# in the fluff data\n",
    "def flatten_json(data):\n",
    "    # Base case: If data is a string, return it in a list\n",
    "    if isinstance(data, str):\n",
    "        return [data]\n",
    "\n",
    "    # For lists: iterate through each item and flatten\n",
    "    if isinstance(data, list):\n",
    "        result = []\n",
    "        for item in data:\n",
    "            result.extend(flatten_json(item))\n",
    "        return result\n",
    "\n",
    "    # For dictionaries: look for the \"entries\" key and flatten its content\n",
    "    if isinstance(data, dict):\n",
    "        if \"entries\" in data:\n",
    "            return flatten_json(data[\"entries\"])\n",
    "        return []"
   ]
  },
  {
   "cell_type": "code",
   "execution_count": null,
   "metadata": {},
   "outputs": [],
   "source": [
    "import os\n",
    "import json\n",
    "\n",
    "# list all of the files in the bestiary data directory\n",
    "# filtering out the ones that are fluff or purely metadata\n",
    "# with no relevant monster information\n",
    "base_bestiary_files = list(filter(lambda x: x.startswith('bestiary'), os.listdir('data/bestiary')))\n",
    "\n",
    "# fluff files (monster descriptions are separate from the core data files)\n",
    "# so we're going to join them all together into one big dictionary\n",
    "# keyed on the monster name + source (there are sometimes duplicate names)\n",
    "monsters = {}\n",
    "\n",
    "for base_file in base_bestiary_files: \n",
    "    with open('data/bestiary/' + base_file, 'r') as f:\n",
    "        # json parse the file and then get the monster data\n",
    "        # from the json\n",
    "        monster_data = json.loads(f.read())['monster']\n",
    "\n",
    "        # iterate through the monster data\n",
    "        for monster in monster_data:\n",
    "            key = monster['name'] + '-' + monster['source']\n",
    "            # if the monster name is already in the dictionary\n",
    "            # then we need to merge the data\n",
    "            if key in monster_data:\n",
    "                # merge the data\n",
    "                monsters[key] = {**monsters[key], **monster}\n",
    "            else:\n",
    "                # otherwise just add the data to the dictionary\n",
    "                monsters[key] = monster\n"
   ]
  },
  {
   "cell_type": "code",
   "execution_count": null,
   "metadata": {},
   "outputs": [],
   "source": [
    "# now we want to get the monster descriptions\n",
    "# and add them to the dictionary\n",
    "for fluff_file in filter(lambda x: x.startswith('fluff-bestiary'), os.listdir('data/bestiary')):\n",
    "    with open('data/bestiary/' + fluff_file, 'r') as f:\n",
    "        fluff_data = json.loads(f.read())['monsterFluff']\n",
    "\n",
    "        # iterate through the fluff data\n",
    "        for fluff in fluff_data:\n",
    "            key = fluff['name'] + '-' + fluff['source']\n",
    "            # if the monster name is already in the dictionary\n",
    "            # then we need to merge the data\n",
    "            if 'entries' in fluff and key in monsters:\n",
    "                # merge the data\n",
    "                monsters[key]['descriptions'] = flatten_json(fluff['entries'])\n"
   ]
  },
  {
   "cell_type": "code",
   "execution_count": null,
   "metadata": {},
   "outputs": [],
   "source": [
    "# print the first 10 monsters\n",
    "for key, value in list(monsters.items())[0:1]:\n",
    "    # pretty print the monster data\n",
    "    print(json.dumps(value, indent=4))\n"
   ]
  },
  {
   "cell_type": "code",
   "execution_count": null,
   "metadata": {},
   "outputs": [],
   "source": []
  }
 ],
 "metadata": {
  "kernelspec": {
   "display_name": "Python 3",
   "language": "python",
   "name": "python3"
  },
  "language_info": {
   "codemirror_mode": {
    "name": "ipython",
    "version": 3
   },
   "file_extension": ".py",
   "mimetype": "text/x-python",
   "name": "python",
   "nbconvert_exporter": "python",
   "pygments_lexer": "ipython3",
   "version": "3.11.4"
  },
  "orig_nbformat": 4
 },
 "nbformat": 4,
 "nbformat_minor": 2
}
