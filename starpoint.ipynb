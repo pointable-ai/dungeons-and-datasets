{
  "nbformat": 4,
  "nbformat_minor": 5,
  "metadata": {
    "kernel_info": {
      "name": "python3"
    },
    "kernelspec": {
      "display_name": "Python 3.9",
      "language": "python",
      "name": "python3"
    },
    "selected_hardware_size": "small"
  },
  "cells": [
    {
      "id": "7ce5525b-8eb4-4b31-a8ff-6652fe47cfde",
      "cell_type": "code",
      "metadata": {
        "jupyter": {
          "outputs_hidden": false,
          "source_hidden": false
        },
        "noteable": {
          "cell_type": "code"
        }
      },
      "execution_count": null,
      "source": "%pip install -U starpoint",
      "outputs": []
    },
    {
      "id": "5cb0146c",
      "cell_type": "code",
      "metadata": {},
      "execution_count": null,
      "source": "from starpoint.db import Client\nfrom starpoint.openai import OpenAIClient\n",
      "outputs": []
    },
    {
      "id": "7d53b6d5-065a-4e80-8dc3-ece9d55c4d56",
      "cell_type": "code",
      "metadata": {
        "jupyter": {
          "outputs_hidden": false,
          "source_hidden": false
        },
        "noteable": {
          "cell_type": "code"
        }
      },
      "execution_count": null,
      "source": "import os \nOPENAI_API_KEY = os.environ[\"OPENAI_API_KEY\"]\nSTARPOINT_API_KEY = os.environ[\"STARPOINT_API_KEY\"]",
      "outputs": []
    },
    {
      "id": "4ff3b97e-516e-40bb-8117-34b9835fade2",
      "cell_type": "code",
      "metadata": {
        "jupyter": {
          "outputs_hidden": false,
          "source_hidden": false
        },
        "noteable": {
          "cell_type": "code"
        }
      },
      "execution_count": null,
      "source": "starpoint_client = Client(api_key=STARPOINT_API_KEY)\n\nOpenAIClient(starpoint=starpoint_client, openai_key=)",
      "outputs": []
    }
  ]
}