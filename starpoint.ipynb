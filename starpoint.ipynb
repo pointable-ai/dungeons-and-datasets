{
  "nbformat": 4,
  "nbformat_minor": 5,
  "metadata": {
    "kernel_info": {
      "name": "python3"
    },
    "kernelspec": {
      "display_name": "Python 3.9",
      "language": "python",
      "name": "python3"
    },
    "selected_hardware_size": "small"
  },
  "cells": [
    {
      "id": "7ce5525b-8eb4-4b31-a8ff-6652fe47cfde",
      "cell_type": "code",
      "metadata": {
        "jupyter": {
          "outputs_hidden": false,
          "source_hidden": false
        },
        "noteable": {
          "cell_type": "code"
        }
      },
      "execution_count": null,
      "source": "%pip install -U starpoint",
      "outputs": []
    },
    {
      "id": "5cb0146c",
      "cell_type": "code",
      "metadata": {},
      "execution_count": null,
      "source": "from starpoint.db import client\nfrom starpoint.openai import openaiclient\n\n",
      "outputs": []
    }
  ]
}