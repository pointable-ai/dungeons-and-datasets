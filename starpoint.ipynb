{
  "nbformat": 4,
  "nbformat_minor": 5,
  "metadata": {
    "kernel_info": {
      "name": "python3"
    },
    "kernelspec": {
      "display_name": "Python 3.9",
      "language": "python",
      "name": "python3"
    },
    "selected_hardware_size": "small"
  },
  "cells": [
    {
      "id": "7ce5525b-8eb4-4b31-a8ff-6652fe47cfde",
      "cell_type": "code",
      "metadata": {
        "jupyter": {
          "outputs_hidden": true,
          "source_hidden": false
        },
        "noteable": {
          "cell_type": "code",
          "output_collection_id": "7d7e980e-1975-4790-821a-9c2d9e207972"
        },
        "ExecuteTime": {
          "end_time": "2023-09-06T01:03:06.906263+00:00",
          "start_time": "2023-09-06T01:03:01.965019+00:00"
        }
      },
      "execution_count": null,
      "source": "%pip install -U starpoint",
      "outputs": []
    },
    {
      "id": "7d53b6d5-065a-4e80-8dc3-ece9d55c4d56",
      "cell_type": "code",
      "metadata": {
        "jupyter": {
          "outputs_hidden": false,
          "source_hidden": false
        },
        "noteable": {
          "cell_type": "code",
          "output_collection_id": "1dcb4912-600c-4666-aa17-e92ab983aed1"
        },
        "ExecuteTime": {
          "end_time": "2023-09-06T01:02:06.172965+00:00",
          "start_time": "2023-09-06T01:02:06.014872+00:00"
        }
      },
      "execution_count": null,
      "source": "import os \nOPENAI_API_KEY = os.environ[\"OPENAI_API_KEY\"]\nSTARPOINT_API_KEY = os.environ[\"STARPOINT_API_KEY\"]",
      "outputs": []
    },
    {
      "id": "a30d2456-3c9c-4fe1-afcb-5a19a5ebebb6",
      "cell_type": "code",
      "metadata": {
        "jupyter": {
          "outputs_hidden": false,
          "source_hidden": false
        },
        "noteable": {
          "cell_type": "code"
        }
      },
      "execution_count": null,
      "source": "import json\n\ndocuments = []\n\nwith open('./monster_text.json') as f:\n    monster_texts = json.loads(f)\n    \n# documents_index = []\n# for document in documents:\n#     value = document.get(\"text\")\n#     if value is not None:\n#         documents_index.append()\n\n# EMBEDDING_URL = \"https://scholar.starpoint.ai/api/v1/embed\"\n# headers = {\"x-starpoint-key\": STARPOINT_API_KEY}\n    \n# embed_resp = requests.post(EMBEDDING_URL, headers=headers, json={\"text\": documents_index, \"model\": \"MINI6\"})\n\nfrom sentence_transformers import SentenceTransformer\n\ndocuments_to_upload = []\n\nmodel = SentenceTransformer('sentence-transformers/all-MiniLM-L6-v2')\nfor monster in monster_texts:\n    text_to_embed = monster[\"text\"]\n    embedding = model.encode([text_to_embed])\n    documents_to_upload.append({\n        \"embedding\": embedding,\n        \"metadata\": {**monster}\n    })\nprint(document)",
      "outputs": []
    },
    {
      "id": "1c6791f3-75fa-4c59-8e8c-6a039dc1bf1c",
      "cell_type": "code",
      "metadata": {
        "jupyter": {
          "outputs_hidden": false,
          "source_hidden": false
        },
        "noteable": {
          "cell_type": "code"
        }
      },
      "execution_count": null,
      "source": "import copy\nfrom starpoint.db import Client\n\nCOLLECTION_NAME = \"noteable-dnd\"\n\ndocuments_to_upload = []\n\nfor key, embeddings in embeddings_data.items():\n    metadata = monsters[key]\n    for text_field, embedding in embeddings.items():\n        new_metadata = copy.deepcopy(metadata)\n        new_metadata['embedding_source'] = text_field\n        documents_to_upload.append({\n            'metadata': new_metadata,\n            'embedding': embedding.tolist()\n        })\n\nclient = Client(api_key=API_KEY)\nclient.insert(documents=documents_to_upload, collection_name=COLLECTION_NAME)",
      "outputs": []
    },
    {
      "id": "09a16449-8701-444f-9ab6-f0d453fa509d",
      "cell_type": "code",
      "metadata": {
        "jupyter": {
          "outputs_hidden": true,
          "source_hidden": false
        },
        "noteable": {
          "cell_type": "code",
          "output_collection_id": "e4bec601-056b-4170-8292-731bb2176ca3"
        },
        "ExecuteTime": {
          "end_time": "2023-09-06T01:04:59.595248+00:00",
          "start_time": "2023-09-06T01:04:59.213944+00:00"
        }
      },
      "execution_count": null,
      "source": "import requests\n\nEMBEDDING_URL = \"https://scholar.starpoint.ai/api/v1/embed\"\nheaders = {\"x-starpoint-key\": STARPOINT_API_KEY}\n\nquestion = \"how big is an aerosaur?\"\nembed_resp = requests.post(EMBEDDING_URL, headers=headers, json={\"text\": [question], \"model\": \"MINI6\"})\nquery_embedding = embed_resp.json()[\"results\"][0][\"embedding\"]\n\n",
      "outputs": []
    },
    {
      "id": "a52aed8e-0c43-43a8-80f3-7a97aed06b03",
      "cell_type": "code",
      "metadata": {
        "jupyter": {
          "outputs_hidden": false,
          "source_hidden": false
        },
        "noteable": {
          "cell_type": "code"
        }
      },
      "execution_count": null,
      "source": "starpoint_query = client.query(\n    collection_name=\"noteable-dnd\",\n    query_embedding=query_embedding, \n    sql=\"SELECT monster_name, monster_source, field FROM collection\"\n)",
      "outputs": []
    }
  ]
}