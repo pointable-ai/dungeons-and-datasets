{
  "nbformat": 4,
  "nbformat_minor": 5,
  "metadata": {},
  "cells": [
    {
      "id": "5cb0146c",
      "cell_type": "code",
      "metadata": {},
      "execution_count": null,
      "source": "",
      "outputs": []
    }
  ]
}