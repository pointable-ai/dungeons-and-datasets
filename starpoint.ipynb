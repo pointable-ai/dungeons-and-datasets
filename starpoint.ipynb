{
  "nbformat": 4,
  "nbformat_minor": 5,
  "metadata": {
    "kernel_info": {
      "name": "python3"
    },
    "kernelspec": {
      "display_name": "Python 3.9",
      "language": "python",
      "name": "python3"
    },
    "selected_hardware_size": "small"
  },
  "cells": [
    {
      "id": "7ce5525b-8eb4-4b31-a8ff-6652fe47cfde",
      "cell_type": "code",
      "metadata": {
        "jupyter": {
          "outputs_hidden": true,
          "source_hidden": false
        },
        "noteable": {
          "cell_type": "code",
          "output_collection_id": "7d7e980e-1975-4790-821a-9c2d9e207972"
        },
        "ExecuteTime": {
          "end_time": "2023-09-06T01:03:06.906263+00:00",
          "start_time": "2023-09-06T01:03:01.965019+00:00"
        }
      },
      "execution_count": null,
      "source": "%pip install -U starpoint ",
      "outputs": []
    },
    {
      "id": "7d53b6d5-065a-4e80-8dc3-ece9d55c4d56",
      "cell_type": "code",
      "metadata": {
        "jupyter": {
          "outputs_hidden": false,
          "source_hidden": false
        },
        "noteable": {
          "cell_type": "code",
          "output_collection_id": "1dcb4912-600c-4666-aa17-e92ab983aed1"
        },
        "ExecuteTime": {
          "end_time": "2023-09-06T01:02:06.172965+00:00",
          "start_time": "2023-09-06T01:02:06.014872+00:00"
        }
      },
      "execution_count": null,
      "source": "import os \nOPENAI_API_KEY = os.environ[\"OPENAI_API_KEY\"]\nSTARPOINT_API_KEY = os.environ[\"STARPOINT_API_KEY\"]",
      "outputs": []
    },
    {
      "id": "a30d2456-3c9c-4fe1-afcb-5a19a5ebebb6",
      "cell_type": "code",
      "metadata": {
        "jupyter": {
          "outputs_hidden": false,
          "source_hidden": false
        },
        "noteable": {
          "cell_type": "code",
          "output_collection_id": "9f6da9e8-0b88-4612-b797-1ef4f6fb360c"
        },
        "ExecuteTime": {
          "end_time": "2023-09-06T01:46:30.765609+00:00",
          "start_time": "2023-09-06T01:46:23.292986+00:00"
        }
      },
      "execution_count": null,
      "source": "import json\n\nwith open('./monster_text.json') as f:\n    monster_texts = json.load(f)\n\ndef embed(texts):\n    embed_resp = requests.post(EMBEDDING_URL, headers=headers, json={\"text\": texts, \"model\": \"MINI6\"})\n    print(embed_resp.content)\n    return embed_resp.json()[\"results\"]\n\ndef embed(texts):\n    model = SentenceTransformer('sentence-transformers/all-MiniLM-L6-v2')\n    mode\n\ndocuments_to_upload = []\nembeddings = embed([monster[\"text\"] for monster in monster_texts])\nembeddings = [embedding[\"embedding\"] for embedding in embeddings]\n\nfor index, monster in enumerate(monster_texts):\n    documents_to_upload.append({\n        \"embedding\": embeddings[index],\n        \"metadata\": monster\n    })\nprint(documents_to_upload[:10])",
      "outputs": []
    },
    {
      "id": "1c6791f3-75fa-4c59-8e8c-6a039dc1bf1c",
      "cell_type": "code",
      "metadata": {
        "jupyter": {
          "outputs_hidden": false,
          "source_hidden": false
        },
        "noteable": {
          "cell_type": "code"
        }
      },
      "execution_count": null,
      "source": "import copy\nfrom starpoint.db import Client\n\nCOLLECTION_NAME = \"noteable-dnd\"\n\ndocuments_to_upload = []\n\nfor key, embeddings in embeddings_data.items():\n    metadata = monsters[key]\n    for text_field, embedding in embeddings.items():\n        new_metadata = copy.deepcopy(metadata)\n        new_metadata['embedding_source'] = text_field\n        documents_to_upload.append({\n            'metadata': new_metadata,\n            'embedding': embedding.tolist()\n        })\n\nclient = Client(api_key=STARPOINT_API_KEY)\nclient.insert(documents=documents_to_upload, collection_name=COLLECTION_NAME)",
      "outputs": []
    },
    {
      "id": "09a16449-8701-444f-9ab6-f0d453fa509d",
      "cell_type": "code",
      "metadata": {
        "jupyter": {
          "outputs_hidden": true,
          "source_hidden": false
        },
        "noteable": {
          "cell_type": "code",
          "output_collection_id": "e4bec601-056b-4170-8292-731bb2176ca3"
        },
        "ExecuteTime": {
          "end_time": "2023-09-06T01:04:59.595248+00:00",
          "start_time": "2023-09-06T01:04:59.213944+00:00"
        }
      },
      "execution_count": null,
      "source": "import requests\n\nEMBEDDING_URL = \"https://scholar.starpoint.ai/api/v1/embed\"\nheaders = {\"x-starpoint-key\": STARPOINT_API_KEY}\n\nquestion = \"how big is an aerosaur?\"\nembed_resp = embed(text=[question])\n\nquery_embedding = embed_resp.json()[\"results\"][0][\"embedding\"]\n\n",
      "outputs": []
    },
    {
      "id": "a52aed8e-0c43-43a8-80f3-7a97aed06b03",
      "cell_type": "code",
      "metadata": {
        "jupyter": {
          "outputs_hidden": false,
          "source_hidden": false
        },
        "noteable": {
          "cell_type": "code"
        }
      },
      "execution_count": null,
      "source": "from sentence_transformers import SentenceTransformer\nfrom llama_cpp import Llama\nfrom starpoint.db import Client\n\nCOLLECTION_NAME = 'dnd'\nAPI_KEY = '2a3ed27a-ced2-4ad6-b411-511a5c71f6e3'\nstarpoint_client = Client(api_key=API_KEY)\nGGML_MODEL_PATH = \"./model/model.bin\"\n\nllm = Llama(model_path=GGML_MODEL_PATH)\n\nmodel = SentenceTransformer('sentence-transformers/all-MiniLM-L6-v2')\n\ndef query_starpoint(text):\n    query_embedding = model.encode(text).tolist()\n    relevant_monsters = starpoint_client.query(\n        collection_id=COLLECTION_NAME,\n        query_embedding=query_embedding,\n        sql=\"SELECT * FROM collection LIMIT 5\"\n    )\n",
      "outputs": []
    },
    {
      "id": "85a9d767-41f6-45c8-81ed-dd4d05f488a1",
      "cell_type": "code",
      "metadata": {
        "jupyter": {
          "outputs_hidden": false,
          "source_hidden": false
        },
        "noteable": {
          "cell_type": "code"
        }
      },
      "execution_count": null,
      "source": "chat_history = []",
      "outputs": []
    },
    {
      "id": "782c3db2-33de-4492-a363-8cd3f27de50d",
      "cell_type": "code",
      "metadata": {
        "jupyter": {
          "outputs_hidden": false,
          "source_hidden": false
        },
        "noteable": {
          "cell_type": "code"
        }
      },
      "execution_count": null,
      "source": "# run this cell to advance the conversation\nimport json\n\nuser_input = input(f\"User: \")\n\nchat_history.append(f\"User: {user_input}\")\nrelevant_monsters = query_starpoint(user_input)\n\nPROMPT = f\"\"\"\n    You are a helpful conversational assistant that knows a lot about Dungeons and Dragons. You will try your best to respond to answer and requests for information about D&D. Be concise in your responses.\n    Context:\n    {json.dumps(relevant_monsters)}\n    The conversation so far:\n    {\"\\n\".join(chat_history)}\n    Assistant: \n\"\"\"\n\noutput = llm(PROMPT, max_tokens=1024, stop=[f\"User:\", \"\\n\"], echo=False)\nresponse = output['choices'][0]['text']\ntrimmed_response = response.strip()\nchat_history.append(f\"Assistant: {trimmed_response}\")\n\nprint(\"\\n\".join(chat_history))\n",
      "outputs": []
    }
  ]
}