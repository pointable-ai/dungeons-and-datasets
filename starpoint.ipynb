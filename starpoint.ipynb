{
  "cells": [
    {
      "cell_type": "code",
      "execution_count": null,
      "id": "7ce5525b-8eb4-4b31-a8ff-6652fe47cfde",
      "metadata": {
        "ExecuteTime": {
          "end_time": "2023-09-08T18:17:52.823424+00:00",
          "start_time": "2023-09-08T18:17:06.527372+00:00"
        },
        "jupyter": {
          "outputs_hidden": true,
          "source_hidden": false
        },
        "noteable": {
          "cell_type": "code",
          "output_collection_id": "843c65b9-609a-48a7-b51e-2af38d87b8f4"
        }
      },
      "outputs": [],
      "source": [
        "%pip install -U starpoint openai sentence-transformers tokenizers"
      ]
    },
    {
      "cell_type": "code",
      "execution_count": null,
      "id": "7d53b6d5-065a-4e80-8dc3-ece9d55c4d56",
      "metadata": {
        "ExecuteTime": {
          "end_time": "2023-09-08T18:18:04.247080+00:00",
          "start_time": "2023-09-08T18:18:04.091151+00:00"
        },
        "jupyter": {
          "outputs_hidden": false,
          "source_hidden": false
        },
        "noteable": {
          "cell_type": "code",
          "output_collection_id": "ff12c4ed-d731-4772-9d6f-6c04754dbe43"
        }
      },
      "outputs": [],
      "source": [
        "import os\n",
        "from starpoint.db import Client\n",
        "\n",
        "OPENAI_API_KEY = os.environ[\"OPENAI_API_KEY\"]\n",
        "openai.api_key = OPENAI_API_KEY\n",
        "STARPOINT_API_KEY = os.environ[\"STARPOINT_API_KEY\"]\n",
        "starpoint_client = Client(api_key=STARPOINT_API_KEY)\n",
        "COLLECTION_NAME = 'dnd'"
      ]
    },
    {
      "cell_type": "code",
      "execution_count": null,
      "id": "812f7537-e0db-4b68-bdf7-09d184ffb832",
      "metadata": {
        "jupyter": {
          "outputs_hidden": false,
          "source_hidden": false
        },
        "noteable": {
          "cell_type": "code"
        }
      },
      "outputs": [],
      "source": [
        "\n",
        "def embed(texts):\n",
        "    from sentence_transformers import SentenceTransformer\n",
        "    model = SentenceTransformer('sentence-transformers/all-MiniLM-L6-v2')\n",
        "    return model.encode(texts)\n",
        "\n",
        "def prompt_openai(prompt):\n",
        "    return openai.ChatCompletion.create(\n",
        "        model=\"gpt-3.5-turbo\",\n",
        "        messages=[{\"role\": \"user\", \"content\": prompt}]\n",
        "    )[\"choices\"][0][\"message\"][\"content\"]\n",
        "\n",
        "def query_starpoint(query):\n",
        "    hypothetical_answer = prompt_openai(f\"Answer the following question in less than 80 words: {query}\")\n",
        "    query_embedding = embed([hypothetical_answer])[0].tolist()\n",
        "    relevant_monsters = starpoint_client.query(\n",
        "        collection_name=COLLECTION_NAME,\n",
        "        query_embedding=query_embedding,\n",
        "        sql=\"SELECT * FROM collection LIMIT 10\"\n",
        "    )\n",
        "    return relevant_monsters"
      ]
    },
    {
      "cell_type": "code",
      "execution_count": null,
      "id": "a30d2456-3c9c-4fe1-afcb-5a19a5ebebb6",
      "metadata": {
        "ExecuteTime": {
          "end_time": "2023-09-08T18:21:39.553907+00:00",
          "start_time": "2023-09-08T18:21:24.451175+00:00"
        },
        "jupyter": {
          "outputs_hidden": false,
          "source_hidden": false
        },
        "noteable": {
          "cell_type": "code",
          "output_collection_id": "a0b79d4e-e50b-463b-9697-b32308aa809e"
        },
        "scrolled": false
      },
      "outputs": [],
      "source": [
        "import json\n",
        "import requests\n",
        "from tokenizers import Tokenizer\n",
        "\n",
        "tokenizer = Tokenizer.from_pretrained(\"bert-base-cased\")\n",
        "\n",
        "with open('./monster_text.json') as f:\n",
        "    monster_texts = json.load(f)\n",
        "    monster_texts = []\n",
        "\n",
        "    documents_to_upload = []\n",
        "    embeddings = embed([monster[\"text\"] for monster in monster_texts])\n",
        "\n",
        "    for index, monster in enumerate(monster_texts):\n",
        "        documents_to_upload.append({\n",
        "            \"embedding\": embeddings[index].tolist(),\n",
        "            \"metadata\": monster\n",
        "        })\n",
        "\n",
        "    print(documents_to_upload[:10])\n",
        "\n",
        "    starpoint_client.insert(documents=documents_to_upload, collection_name=COLLECTION_NAME)"
      ]
    },
    {
      "cell_type": "code",
      "execution_count": null,
      "id": "782c3db2-33de-4492-a363-8cd3f27de50d",
      "metadata": {
        "ExecuteTime": {
          "end_time": "2023-09-06T02:12:26.333811+00:00",
          "start_time": "2023-09-06T02:12:25.239967+00:00"
        },
        "jupyter": {
          "outputs_hidden": false,
          "source_hidden": false
        },
        "noteable": {
          "cell_type": "code",
          "output_collection_id": "e588f270-1e63-4e40-9d7e-23c90a7a5cb3"
        }
      },
      "outputs": [],
      "source": [
        "resp = query_starpoint(\"where are Balors found?\")\n",
        "print(resp)"
      ]
    }
  ],
  "metadata": {
    "kernel_info": {
      "name": "python3"
    },
    "kernelspec": {
      "display_name": "Python 3.9",
      "language": "python",
      "name": "python3"
    },
    "language_info": {
      "name": "python",
      "version": "3.11.4"
    },
    "selected_hardware_size": "small-gpu"
  },
  "nbformat": 4,
  "nbformat_minor": 5
}
