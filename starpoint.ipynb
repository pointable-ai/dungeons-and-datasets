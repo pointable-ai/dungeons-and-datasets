{
  "nbformat": 4,
  "nbformat_minor": 5,
  "metadata": {
    "kernel_info": {
      "name": "python3"
    },
    "kernelspec": {
      "display_name": "Python 3.9",
      "language": "python",
      "name": "python3"
    },
    "selected_hardware_size": "small"
  },
  "cells": [
    {
      "id": "7ce5525b-8eb4-4b31-a8ff-6652fe47cfde",
      "cell_type": "code",
      "metadata": {
        "jupyter": {
          "outputs_hidden": false,
          "source_hidden": false
        },
        "noteable": {
          "cell_type": "code"
        }
      },
      "execution_count": null,
      "source": "%pip install -U starpoint",
      "outputs": []
    },
    {
      "id": "5cb0146c",
      "cell_type": "code",
      "metadata": {},
      "execution_count": null,
      "source": "from starpoint.db import Client\nfrom starpoint.openai import OpenAIClient\n",
      "outputs": []
    },
    {
      "id": "7d53b6d5-065a-4e80-8dc3-ece9d55c4d56",
      "cell_type": "code",
      "metadata": {
        "jupyter": {
          "outputs_hidden": false,
          "source_hidden": false
        },
        "noteable": {
          "cell_type": "code"
        }
      },
      "execution_count": null,
      "source": "import os \nOPENAI_API_KEY = os.environ[\"OPENAI_API_KEY\"]\nSTARPOINT_API_KEY = os.environ[\"STARPOINT_API_KEY\"]",
      "outputs": []
    },
    {
      "id": "4ff3b97e-516e-40bb-8117-34b9835fade2",
      "cell_type": "code",
      "metadata": {
        "jupyter": {
          "outputs_hidden": false,
          "source_hidden": false
        },
        "noteable": {
          "cell_type": "code"
        }
      },
      "execution_count": null,
      "source": "starpoint_client = Client(api_key=STARPOINT_API_KEY)\n\nstarpoint_openai_client = OpenAIClient(starpoint=starpoint_client, openai_key=OPENAI_API_KEY)\n",
      "outputs": []
    },
    {
      "id": "a30d2456-3c9c-4fe1-afcb-5a19a5ebebb6",
      "cell_type": "code",
      "metadata": {
        "jupyter": {
          "outputs_hidden": false,
          "source_hidden": false
        },
        "noteable": {
          "cell_type": "code"
        }
      },
      "execution_count": null,
      "source": "import json\n\ndocuments_json = None\n\nwith open('./monster_text.json') as f:\n    documents_json = json.loads(f)\n\ndocuments = []\n\nfor ",
      "outputs": []
    },
    {
      "id": "09a16449-8701-444f-9ab6-f0d453fa509d",
      "cell_type": "code",
      "metadata": {
        "jupyter": {
          "outputs_hidden": false,
          "source_hidden": false
        },
        "noteable": {
          "cell_type": "code"
        }
      },
      "execution_count": null,
      "source": "",
      "outputs": []
    }
  ]
}