{
  "cells": [
    {
      "cell_type": "code",
      "execution_count": 1,
      "id": "7ce5525b-8eb4-4b31-a8ff-6652fe47cfde",
      "metadata": {
        "ExecuteTime": {
          "end_time": "2023-09-08T18:17:52.823424+00:00",
          "start_time": "2023-09-08T18:17:06.527372+00:00"
        },
        "jupyter": {
          "outputs_hidden": true,
          "source_hidden": false
        },
        "noteable": {
          "cell_type": "code",
          "output_collection_id": "843c65b9-609a-48a7-b51e-2af38d87b8f4"
        }
      },
      "outputs": [
        {
          "name": "stdout",
          "output_type": "stream",
          "text": [
            "Requirement already satisfied: starpoint in ./.venv/lib/python3.11/site-packages (0.2.0)\n",
            "Collecting starpoint\n",
            "  Obtaining dependency information for starpoint from https://files.pythonhosted.org/packages/68/de/03a3d84fa69b27e817fd9336af9476899113d48981116b470d130b358d27/starpoint-0.3.1-py3-none-any.whl.metadata\n",
            "  Downloading starpoint-0.3.1-py3-none-any.whl.metadata (1.5 kB)\n",
            "Requirement already satisfied: openai in ./.venv/lib/python3.11/site-packages (0.27.9)\n",
            "Collecting openai\n",
            "  Obtaining dependency information for openai from https://files.pythonhosted.org/packages/ae/59/911d6e5f1d7514d79c527067643376cddcf4cb8d1728e599b3b03ab51c69/openai-0.28.0-py3-none-any.whl.metadata\n",
            "  Downloading openai-0.28.0-py3-none-any.whl.metadata (13 kB)\n",
            "Requirement already satisfied: sentence-transformers in ./.venv/lib/python3.11/site-packages (2.2.2)\n",
            "Requirement already satisfied: tokenizers in ./.venv/lib/python3.11/site-packages (0.13.3)\n",
            "Collecting tokenizers\n",
            "  Obtaining dependency information for tokenizers from https://files.pythonhosted.org/packages/48/eb/9a9404720ced1f26f156b5ffcbdb65946621b1111c2cfdd374ee7e7a938e/tokenizers-0.14.0-cp311-cp311-macosx_11_0_arm64.whl.metadata\n",
            "  Downloading tokenizers-0.14.0-cp311-cp311-macosx_11_0_arm64.whl.metadata (6.7 kB)\n",
            "Collecting python-dotenv\n",
            "  Downloading python_dotenv-1.0.0-py3-none-any.whl (19 kB)\n",
            "Requirement already satisfied: requests~=2.28 in ./.venv/lib/python3.11/site-packages (from starpoint) (2.31.0)\n",
            "Requirement already satisfied: validators~=0.20 in ./.venv/lib/python3.11/site-packages (from starpoint) (0.21.2)\n",
            "Requirement already satisfied: tqdm in ./.venv/lib/python3.11/site-packages (from openai) (4.66.1)\n",
            "Requirement already satisfied: aiohttp in ./.venv/lib/python3.11/site-packages (from openai) (3.8.5)\n",
            "Requirement already satisfied: transformers<5.0.0,>=4.6.0 in ./.venv/lib/python3.11/site-packages (from sentence-transformers) (4.32.0)\n",
            "Requirement already satisfied: torch>=1.6.0 in ./.venv/lib/python3.11/site-packages (from sentence-transformers) (2.0.1)\n",
            "Requirement already satisfied: torchvision in ./.venv/lib/python3.11/site-packages (from sentence-transformers) (0.15.2)\n",
            "Requirement already satisfied: numpy in ./.venv/lib/python3.11/site-packages (from sentence-transformers) (1.25.2)\n",
            "Requirement already satisfied: scikit-learn in ./.venv/lib/python3.11/site-packages (from sentence-transformers) (1.3.0)\n",
            "Requirement already satisfied: scipy in ./.venv/lib/python3.11/site-packages (from sentence-transformers) (1.11.2)\n",
            "Requirement already satisfied: nltk in ./.venv/lib/python3.11/site-packages (from sentence-transformers) (3.8.1)\n",
            "Requirement already satisfied: sentencepiece in ./.venv/lib/python3.11/site-packages (from sentence-transformers) (0.1.99)\n",
            "Requirement already satisfied: huggingface-hub>=0.4.0 in ./.venv/lib/python3.11/site-packages (from sentence-transformers) (0.16.4)\n",
            "Requirement already satisfied: filelock in ./.venv/lib/python3.11/site-packages (from huggingface-hub>=0.4.0->sentence-transformers) (3.12.2)\n",
            "Requirement already satisfied: fsspec in ./.venv/lib/python3.11/site-packages (from huggingface-hub>=0.4.0->sentence-transformers) (2023.6.0)\n",
            "Requirement already satisfied: pyyaml>=5.1 in ./.venv/lib/python3.11/site-packages (from huggingface-hub>=0.4.0->sentence-transformers) (6.0.1)\n",
            "Requirement already satisfied: typing-extensions>=3.7.4.3 in ./.venv/lib/python3.11/site-packages (from huggingface-hub>=0.4.0->sentence-transformers) (4.7.1)\n",
            "Requirement already satisfied: packaging>=20.9 in ./.venv/lib/python3.11/site-packages (from huggingface-hub>=0.4.0->sentence-transformers) (23.1)\n",
            "Requirement already satisfied: charset-normalizer<4,>=2 in ./.venv/lib/python3.11/site-packages (from requests~=2.28->starpoint) (3.2.0)\n",
            "Requirement already satisfied: idna<4,>=2.5 in ./.venv/lib/python3.11/site-packages (from requests~=2.28->starpoint) (3.4)\n",
            "Requirement already satisfied: urllib3<3,>=1.21.1 in ./.venv/lib/python3.11/site-packages (from requests~=2.28->starpoint) (2.0.4)\n",
            "Requirement already satisfied: certifi>=2017.4.17 in ./.venv/lib/python3.11/site-packages (from requests~=2.28->starpoint) (2023.7.22)\n",
            "Requirement already satisfied: sympy in ./.venv/lib/python3.11/site-packages (from torch>=1.6.0->sentence-transformers) (1.12)\n",
            "Requirement already satisfied: networkx in ./.venv/lib/python3.11/site-packages (from torch>=1.6.0->sentence-transformers) (3.1)\n",
            "Requirement already satisfied: jinja2 in ./.venv/lib/python3.11/site-packages (from torch>=1.6.0->sentence-transformers) (3.1.2)\n",
            "Requirement already satisfied: regex!=2019.12.17 in ./.venv/lib/python3.11/site-packages (from transformers<5.0.0,>=4.6.0->sentence-transformers) (2023.8.8)\n",
            "Requirement already satisfied: safetensors>=0.3.1 in ./.venv/lib/python3.11/site-packages (from transformers<5.0.0,>=4.6.0->sentence-transformers) (0.3.3)\n",
            "Requirement already satisfied: attrs>=17.3.0 in ./.venv/lib/python3.11/site-packages (from aiohttp->openai) (23.1.0)\n",
            "Requirement already satisfied: multidict<7.0,>=4.5 in ./.venv/lib/python3.11/site-packages (from aiohttp->openai) (6.0.4)\n",
            "Requirement already satisfied: async-timeout<5.0,>=4.0.0a3 in ./.venv/lib/python3.11/site-packages (from aiohttp->openai) (4.0.3)\n",
            "Requirement already satisfied: yarl<2.0,>=1.0 in ./.venv/lib/python3.11/site-packages (from aiohttp->openai) (1.9.2)\n",
            "Requirement already satisfied: frozenlist>=1.1.1 in ./.venv/lib/python3.11/site-packages (from aiohttp->openai) (1.4.0)\n",
            "Requirement already satisfied: aiosignal>=1.1.2 in ./.venv/lib/python3.11/site-packages (from aiohttp->openai) (1.3.1)\n",
            "Requirement already satisfied: click in ./.venv/lib/python3.11/site-packages (from nltk->sentence-transformers) (8.1.7)\n",
            "Requirement already satisfied: joblib in ./.venv/lib/python3.11/site-packages (from nltk->sentence-transformers) (1.3.2)\n",
            "Requirement already satisfied: threadpoolctl>=2.0.0 in ./.venv/lib/python3.11/site-packages (from scikit-learn->sentence-transformers) (3.2.0)\n",
            "Requirement already satisfied: pillow!=8.3.*,>=5.3.0 in ./.venv/lib/python3.11/site-packages (from torchvision->sentence-transformers) (9.5.0)\n",
            "Requirement already satisfied: MarkupSafe>=2.0 in ./.venv/lib/python3.11/site-packages (from jinja2->torch>=1.6.0->sentence-transformers) (2.1.3)\n",
            "Requirement already satisfied: mpmath>=0.19 in ./.venv/lib/python3.11/site-packages (from sympy->torch>=1.6.0->sentence-transformers) (1.3.0)\n",
            "Downloading starpoint-0.3.1-py3-none-any.whl (12 kB)\n",
            "Downloading openai-0.28.0-py3-none-any.whl (76 kB)\n",
            "\u001b[2K   \u001b[90m━━━━━━━━━━━━━━━━━━━━━━━━━━━━━━━━━━━━━━━━\u001b[0m \u001b[32m76.5/76.5 kB\u001b[0m \u001b[31m3.0 MB/s\u001b[0m eta \u001b[36m0:00:00\u001b[0m\n",
            "\u001b[?25hInstalling collected packages: python-dotenv, openai, starpoint\n",
            "  Attempting uninstall: openai\n",
            "    Found existing installation: openai 0.27.9\n",
            "    Uninstalling openai-0.27.9:\n",
            "      Successfully uninstalled openai-0.27.9\n",
            "  Attempting uninstall: starpoint\n",
            "    Found existing installation: starpoint 0.2.0\n",
            "    Uninstalling starpoint-0.2.0:\n",
            "      Successfully uninstalled starpoint-0.2.0\n",
            "Successfully installed openai-0.28.0 python-dotenv-1.0.0 starpoint-0.3.1\n",
            "Note: you may need to restart the kernel to use updated packages.\n"
          ]
        }
      ],
      "source": [
        "%pip install -U starpoint openai sentence-transformers tokenizers python-dotenv"
      ]
    },
    {
      "cell_type": "code",
      "execution_count": 3,
      "id": "7d53b6d5-065a-4e80-8dc3-ece9d55c4d56",
      "metadata": {
        "ExecuteTime": {
          "end_time": "2023-09-08T18:18:04.247080+00:00",
          "start_time": "2023-09-08T18:18:04.091151+00:00"
        },
        "jupyter": {
          "outputs_hidden": false,
          "source_hidden": false
        },
        "noteable": {
          "cell_type": "code",
          "output_collection_id": "ff12c4ed-d731-4772-9d6f-6c04754dbe43"
        }
      },
      "outputs": [],
      "source": [
        "import os\n",
        "import openai\n",
        "from dotenv import load_dotenv\n",
        "from starpoint.db import Client\n",
        "\n",
        "load_dotenv()\n",
        "\n",
        "OPENAI_API_KEY = os.environ[\"OPENAI_API_KEY\"]\n",
        "openai.api_key = OPENAI_API_KEY\n",
        "STARPOINT_API_KEY = os.environ[\"STARPOINT_API_KEY\"]\n",
        "starpoint_client = Client(api_key=STARPOINT_API_KEY)\n",
        "COLLECTION_NAME = 'dnd'"
      ]
    },
    {
      "cell_type": "code",
      "execution_count": null,
      "id": "812f7537-e0db-4b68-bdf7-09d184ffb832",
      "metadata": {
        "jupyter": {
          "outputs_hidden": false,
          "source_hidden": false
        },
        "noteable": {
          "cell_type": "code"
        }
      },
      "outputs": [],
      "source": [
        "\n",
        "def embed(texts):\n",
        "    from sentence_transformers import SentenceTransformer\n",
        "    model = SentenceTransformer('sentence-transformers/all-MiniLM-L6-v2')\n",
        "    return model.encode(texts)\n",
        "\n",
        "def prompt_openai(prompt):\n",
        "    return openai.ChatCompletion.create(\n",
        "        model=\"gpt-3.5-turbo\",\n",
        "        messages=[{\"role\": \"user\", \"content\": prompt}]\n",
        "    )[\"choices\"][0][\"message\"][\"content\"]\n",
        "\n",
        "def query_starpoint(query):\n",
        "    hypothetical_answer = prompt_openai(f\"Answer the following question in less than 80 words: {query}\")\n",
        "    query_embedding = embed([hypothetical_answer])[0].tolist()\n",
        "    relevant_monsters = starpoint_client.query(\n",
        "        collection_name=COLLECTION_NAME,\n",
        "        query_embedding=query_embedding,\n",
        "        sql=\"SELECT * FROM collection LIMIT 10\"\n",
        "    )\n",
        "    return relevant_monsters"
      ]
    },
    {
      "cell_type": "code",
      "execution_count": null,
      "id": "a30d2456-3c9c-4fe1-afcb-5a19a5ebebb6",
      "metadata": {
        "ExecuteTime": {
          "end_time": "2023-09-08T18:21:39.553907+00:00",
          "start_time": "2023-09-08T18:21:24.451175+00:00"
        },
        "jupyter": {
          "outputs_hidden": false,
          "source_hidden": false
        },
        "noteable": {
          "cell_type": "code",
          "output_collection_id": "a0b79d4e-e50b-463b-9697-b32308aa809e"
        },
        "scrolled": false
      },
      "outputs": [],
      "source": [
        "import json\n",
        "import requests\n",
        "from tokenizers import Tokenizer\n",
        "\n",
        "tokenizer = Tokenizer.from_pretrained(\"bert-base-cased\")\n",
        "\n",
        "with open('./monster_text.json') as f:\n",
        "    monster_texts = json.load(f)\n",
        "    monster_texts = []\n",
        "\n",
        "    documents_to_upload = []\n",
        "    embeddings = embed([monster[\"text\"] for monster in monster_texts])\n",
        "\n",
        "    for index, monster in enumerate(monster_texts):\n",
        "        documents_to_upload.append({\n",
        "            \"embedding\": embeddings[index].tolist(),\n",
        "            \"metadata\": monster\n",
        "        })\n",
        "\n",
        "    print(documents_to_upload[:10])\n",
        "\n",
        "    starpoint_client.insert(documents=documents_to_upload, collection_name=COLLECTION_NAME)"
      ]
    },
    {
      "cell_type": "code",
      "execution_count": null,
      "id": "782c3db2-33de-4492-a363-8cd3f27de50d",
      "metadata": {
        "ExecuteTime": {
          "end_time": "2023-09-06T02:12:26.333811+00:00",
          "start_time": "2023-09-06T02:12:25.239967+00:00"
        },
        "jupyter": {
          "outputs_hidden": false,
          "source_hidden": false
        },
        "noteable": {
          "cell_type": "code",
          "output_collection_id": "e588f270-1e63-4e40-9d7e-23c90a7a5cb3"
        }
      },
      "outputs": [],
      "source": [
        "resp = query_starpoint(\"where are Balors found?\")\n",
        "print(resp)"
      ]
    }
  ],
  "metadata": {
    "kernel_info": {
      "name": "python3"
    },
    "kernelspec": {
      "display_name": "Python 3.9",
      "language": "python",
      "name": "python3"
    },
    "language_info": {
      "codemirror_mode": {
        "name": "ipython",
        "version": 3
      },
      "file_extension": ".py",
      "mimetype": "text/x-python",
      "name": "python",
      "nbconvert_exporter": "python",
      "pygments_lexer": "ipython3",
      "version": "3.11.4"
    },
    "selected_hardware_size": "small-gpu"
  },
  "nbformat": 4,
  "nbformat_minor": 5
}
