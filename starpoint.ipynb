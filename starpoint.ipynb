{
  "nbformat": 4,
  "nbformat_minor": 5,
  "metadata": {
    "kernel_info": {
      "name": "python3"
    },
    "kernelspec": {
      "display_name": "Python 3.9",
      "language": "python",
      "name": "python3"
    },
    "selected_hardware_size": "small"
  },
  "cells": [
    {
      "id": "7ce5525b-8eb4-4b31-a8ff-6652fe47cfde",
      "cell_type": "code",
      "metadata": {
        "jupyter": {
          "outputs_hidden": true,
          "source_hidden": false
        },
        "noteable": {
          "cell_type": "code",
          "output_collection_id": "249c9a0a-1ef2-41e2-8cf7-983e7e67f45f"
        },
        "ExecuteTime": {
          "end_time": "2023-09-07T21:26:35.312009+00:00",
          "start_time": "2023-09-07T21:26:31.316528+00:00"
        }
      },
      "execution_count": null,
      "source": "%pip install -U starpoint",
      "outputs": []
    },
    {
      "id": "7d53b6d5-065a-4e80-8dc3-ece9d55c4d56",
      "cell_type": "code",
      "metadata": {
        "jupyter": {
          "outputs_hidden": false,
          "source_hidden": false
        },
        "noteable": {
          "cell_type": "code",
          "output_collection_id": "c947ffd0-3c0b-4a87-840c-e36553e2e088"
        },
        "ExecuteTime": {
          "end_time": "2023-09-07T21:26:35.791752+00:00",
          "start_time": "2023-09-07T21:26:35.636948+00:00"
        }
      },
      "execution_count": null,
      "source": "import os \nOPENAI_API_KEY = os.environ[\"OPENAI_API_KEY\"]\nSTARPOINT_API_KEY = os.environ[\"STARPOINT_API_KEY\"]",
      "outputs": []
    },
    {
      "id": "a30d2456-3c9c-4fe1-afcb-5a19a5ebebb6",
      "cell_type": "code",
      "metadata": {
        "jupyter": {
          "outputs_hidden": false,
          "source_hidden": false
        },
        "noteable": {
          "cell_type": "code",
          "output_collection_id": "2cf9a13e-aea0-4249-ab1e-3227634b3119"
        },
        "ExecuteTime": {
          "end_time": "2023-09-07T21:51:43.447585+00:00",
          "start_time": "2023-09-07T21:26:40.061898+00:00"
        },
        "scrolled": false
      },
      "execution_count": null,
      "source": "import json\nimport requests\nfrom starpoint.embedding import EmbeddingClient, EmbeddingModel\n\nembedding_client = EmbeddingClient(api_key=STARPOINT_API_KEY)\n\n# EMBEDDING_URL = \"https://scholar.starpoint.ai/api/v1/embed\"\n\nwith open('./monster_text.json') as f:\n    monster_texts = json.load(f)\n\n# def embed(texts):\n#     chunks = 500\n#     embedded_text = []\n#     for i in range(0, len(texts), chunks):\n#         texts_to_embed = texts[i:i+chunks]\n#         headers = {\"x-starpoint-key\": STARPOINT_API_KEY}\n#         embed_resp = requests.post(EMBEDDING_URL, headers=headers, json={\"text\": texts_to_embed, \"model\": \"MINI6\"})\n#         embedded_text += embed_resp.json()[\"results\"]\n#     return embedded_text\n\n# def embed(texts):\n#     from sentence_transformers import SentenceTransformer\n#     model = SentenceTransformer('sentence-transformers/all-MiniLM-L6-v2')\n#     return model.encode(texts)\n\ndocuments_to_upload = []\nembeddings = embedding_client.embed([monster[\"text\"] for monster in monster_texts], EmbeddingModel.MINI6)\nprint(embeddings)\nembeddings = [embedding[\"embedding\"] for embedding in embeddings]\n\nfor index, monster in enumerate(monster_texts):\n    documents_to_upload.append({\n        \"embedding\": embeddings[index],\n        \"metadata\": monster\n    })\nprint(documents_to_upload[:10])",
      "outputs": []
    },
    {
      "id": "1c6791f3-75fa-4c59-8e8c-6a039dc1bf1c",
      "cell_type": "code",
      "metadata": {
        "jupyter": {
          "outputs_hidden": false,
          "source_hidden": false
        },
        "noteable": {
          "cell_type": "code",
          "output_collection_id": "c783c948-e354-4e95-8c67-e3d647cf858d"
        }
      },
      "execution_count": null,
      "source": "import copy\nfrom starpoint.db import Client\n\nCOLLECTION_NAME = \"dnd\"\n\nclient = Client(api_key=STARPOINT_API_KEY)\nclient.insert(documents=documents_to_upload, collection_name=COLLECTION_NAME)",
      "outputs": []
    },
    {
      "id": "09a16449-8701-444f-9ab6-f0d453fa509d",
      "cell_type": "code",
      "metadata": {
        "jupyter": {
          "outputs_hidden": false,
          "source_hidden": false
        },
        "noteable": {
          "cell_type": "code",
          "output_collection_id": "75b6fe9f-09aa-463c-825a-ea6b344eda15"
        },
        "ExecuteTime": {
          "end_time": "2023-09-06T01:54:49.563716+00:00",
          "start_time": "2023-09-06T01:54:48.699342+00:00"
        }
      },
      "execution_count": null,
      "source": "import requests\n\nEMBEDDING_URL = \"https://scholar.starpoint.ai/api/v1/embed\"\nheaders = {\"x-starpoint-key\": STARPOINT_API_KEY}\n\nquestion = \"how big is an aerosaur?\"\nembed_resp = embed([question])\n\n# query_embedding = embed_resp.json()[\"results\"][0][\"embedding\"]\nquery_embedding = embed_resp[0]\n\n",
      "outputs": []
    },
    {
      "id": "a52aed8e-0c43-43a8-80f3-7a97aed06b03",
      "cell_type": "code",
      "metadata": {
        "jupyter": {
          "outputs_hidden": false,
          "source_hidden": false
        },
        "noteable": {
          "cell_type": "code",
          "output_collection_id": "ceb5f29d-d16e-433a-919b-d764541c939e"
        },
        "ExecuteTime": {
          "end_time": "2023-09-06T02:11:43.688577+00:00",
          "start_time": "2023-09-06T02:11:42.785477+00:00"
        }
      },
      "execution_count": null,
      "source": "from sentence_transformers import SentenceTransformer\n# from llama_cpp import Llama\nfrom starpoint.db import Client\n\nCOLLECTION_ID = '21643fcc-8620-49db-abb2-8b18116567f4'\nstarpoint_client = Client(api_key=STARPOINT_API_KEY)\nGGML_MODEL_PATH = \"./model/model.bin\"\n\n# llm = Llama(model_path=GGML_MODEL_PATH)\n\nmodel = SentenceTransformer('sentence-transformers/all-MiniLM-L6-v2')\n\ndef query_starpoint(text):\n    query_embedding = model.encode(text).tolist()\n    relevant_monsters = starpoint_client.query(\n        collection_id=COLLECTION_ID,\n        query_embedding=query_embedding,\n        sql=\"SELECT * FROM collection LIMIT 5\"\n    )\n    return relevant_monsters\n",
      "outputs": []
    },
    {
      "id": "782c3db2-33de-4492-a363-8cd3f27de50d",
      "cell_type": "code",
      "metadata": {
        "jupyter": {
          "outputs_hidden": false,
          "source_hidden": false
        },
        "noteable": {
          "cell_type": "code",
          "output_collection_id": "e588f270-1e63-4e40-9d7e-23c90a7a5cb3"
        },
        "ExecuteTime": {
          "end_time": "2023-09-06T02:12:26.333811+00:00",
          "start_time": "2023-09-06T02:12:25.239967+00:00"
        }
      },
      "execution_count": null,
      "source": "resp = query_starpoint(\"where are Balors found?\")\nprint(resp)",
      "outputs": []
    }
  ]
}