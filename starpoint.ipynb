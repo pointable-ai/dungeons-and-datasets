{
  "nbformat": 4,
  "nbformat_minor": 5,
  "metadata": {
    "kernel_info": {
      "name": "python3"
    },
    "kernelspec": {
      "display_name": "Python 3.9",
      "language": "python",
      "name": "python3"
    },
    "selected_hardware_size": "small"
  },
  "cells": [
    {
      "id": "5cb0146c",
      "cell_type": "code",
      "metadata": {},
      "execution_count": null,
      "source": "%pip install -U starpoint\nfrom starpoint.db import client",
      "outputs": []
    }
  ]
}