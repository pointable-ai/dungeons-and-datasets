{
  "nbformat": 4,
  "nbformat_minor": 5,
  "metadata": {
    "kernel_info": {
      "name": "python3"
    },
    "kernelspec": {
      "display_name": "Python 3.9",
      "language": "python",
      "name": "python3"
    },
    "selected_hardware_size": "small"
  },
  "cells": [
    {
      "id": "7ce5525b-8eb4-4b31-a8ff-6652fe47cfde",
      "cell_type": "code",
      "metadata": {
        "jupyter": {
          "outputs_hidden": true,
          "source_hidden": false
        },
        "noteable": {
          "cell_type": "code",
          "output_collection_id": "60ac997e-2d36-4cc2-934d-55f59abac254"
        },
        "ExecuteTime": {
          "end_time": "2023-09-06T01:49:08.106878+00:00",
          "start_time": "2023-09-06T01:47:25.213008+00:00"
        }
      },
      "execution_count": null,
      "source": "%pip install -U starpoint sentence-transformers",
      "outputs": []
    },
    {
      "id": "7d53b6d5-065a-4e80-8dc3-ece9d55c4d56",
      "cell_type": "code",
      "metadata": {
        "jupyter": {
          "outputs_hidden": false,
          "source_hidden": false
        },
        "noteable": {
          "cell_type": "code",
          "output_collection_id": "1dcb4912-600c-4666-aa17-e92ab983aed1"
        },
        "ExecuteTime": {
          "end_time": "2023-09-06T01:02:06.172965+00:00",
          "start_time": "2023-09-06T01:02:06.014872+00:00"
        }
      },
      "execution_count": null,
      "source": "import os \nOPENAI_API_KEY = os.environ[\"OPENAI_API_KEY\"]\nSTARPOINT_API_KEY = os.environ[\"STARPOINT_API_KEY\"]",
      "outputs": []
    },
    {
      "id": "a30d2456-3c9c-4fe1-afcb-5a19a5ebebb6",
      "cell_type": "code",
      "metadata": {
        "jupyter": {
          "outputs_hidden": true,
          "source_hidden": false
        },
        "noteable": {
          "cell_type": "code",
          "output_collection_id": "37dbcee4-cd8d-42ba-a1b4-2e859e2f9649"
        },
        "ExecuteTime": {
          "end_time": "2023-09-06T01:51:29.187256+00:00",
          "start_time": "2023-09-06T01:49:35.744172+00:00"
        },
        "scrolled": false
      },
      "execution_count": null,
      "source": "import json\n\nwith open('./monster_text.json') as f:\n    monster_texts = json.load(f)\n\n# def embed(texts):\n#     embed_resp = requests.post(EMBEDDING_URL, headers=headers, json={\"text\": texts, \"model\": \"MINI6\"})\n#     print(embed_resp.content)\n#     return embed_resp.json()[\"results\"]\n\ndef embed(texts):\n    from sentence_transformers import SentenceTransformer\n    model = SentenceTransformer('sentence-transformers/all-MiniLM-L6-v2')\n    return model.encode(texts)\n\ndocuments_to_upload = []\nembeddings = embed([monster[\"text\"] for monster in monster_texts])\nembeddings = [embedding[\"embedding\"] for embedding in embeddings]\n\nfor index, monster in enumerate(monster_texts):\n    documents_to_upload.append({\n        \"embedding\": embeddings[index],\n        \"metadata\": monster\n    })\nprint(documents_to_upload[:10])",
      "outputs": []
    },
    {
      "id": "1c6791f3-75fa-4c59-8e8c-6a039dc1bf1c",
      "cell_type": "code",
      "metadata": {
        "jupyter": {
          "outputs_hidden": false,
          "source_hidden": false
        },
        "noteable": {
          "cell_type": "code"
        }
      },
      "execution_count": null,
      "source": "import copy\nfrom starpoint.db import Client\n\nCOLLECTION_NAME = \"noteable-dnd\"\n\ndocuments_to_upload = []\n\nfor key, embeddings in embeddings_data.items():\n    metadata = monsters[key]\n    for text_field, embedding in embeddings.items():\n        new_metadata = copy.deepcopy(metadata)\n        new_metadata['embedding_source'] = text_field\n        documents_to_upload.append({\n            'metadata': new_metadata,\n            'embedding': embedding.tolist()\n        })\n\nclient = Client(api_key=STARPOINT_API_KEY)\nclient.insert(documents=documents_to_upload, collection_name=COLLECTION_NAME)",
      "outputs": []
    },
    {
      "id": "09a16449-8701-444f-9ab6-f0d453fa509d",
      "cell_type": "code",
      "metadata": {
        "jupyter": {
          "outputs_hidden": false,
          "source_hidden": false
        },
        "noteable": {
          "cell_type": "code",
          "output_collection_id": "0a913451-64f8-46c5-b82e-767c28624b23"
        },
        "ExecuteTime": {
          "end_time": "2023-09-06T01:54:49.563716+00:00",
          "start_time": "2023-09-06T01:54:48.699342+00:00"
        }
      },
      "execution_count": null,
      "source": "import requests\n\nEMBEDDING_URL = \"https://scholar.starpoint.ai/api/v1/embed\"\nheaders = {\"x-starpoint-key\": STARPOINT_API_KEY}\n\nquestion = \"how big is an aerosaur?\"\nembed_resp = embed([question])\n\n# query_embedding = embed_resp.json()[\"results\"][0][\"embedding\"]\nquery_embedding = embed_resp[0]\n\n",
      "outputs": []
    },
    {
      "id": "a52aed8e-0c43-43a8-80f3-7a97aed06b03",
      "cell_type": "code",
      "metadata": {
        "jupyter": {
          "outputs_hidden": false,
          "source_hidden": false
        },
        "noteable": {
          "cell_type": "code",
          "output_collection_id": "a6e51441-2f3a-4327-9b4a-4003740ba55d"
        },
        "ExecuteTime": {
          "end_time": "2023-09-06T02:11:15.277362+00:00",
          "start_time": "2023-09-06T02:11:13.990790+00:00"
        }
      },
      "execution_count": null,
      "source": "from sentence_transformers import SentenceTransformer\n# from llama_cpp import Llama\nfrom starpoint.db import Client\n\nCOLLECTION_ID = '21643fcc-8620-49db-abb2-8b18116567f4'\nstarpoint_client = Client(api_key=STARPOINT_API_KEY)\nGGML_MODEL_PATH = \"./model/model.bin\"\n\n# llm = Llama(model_path=GGML_MODEL_PATH)\n\nmodel = SentenceTransformer('sentence-transformers/all-MiniLM-L6-v2')\n\ndef query_starpoint(text):\n    query_embedding = model.encode(text).tolist()\n    relevant_monsters = starpoint_client.query(\n        collection_id=COLLECTION_ID,\n        query_embedding=query_embedding,\n        sql=\"SELECT * FROM collection LIMIT 5\"\n    )\n    return relevant_monsters\n",
      "outputs": []
    },
    {
      "id": "782c3db2-33de-4492-a363-8cd3f27de50d",
      "cell_type": "code",
      "metadata": {
        "jupyter": {
          "outputs_hidden": false,
          "source_hidden": false
        },
        "noteable": {
          "cell_type": "code",
          "output_collection_id": "38e8eb8a-4d37-4842-b1c3-35a28490438c"
        },
        "ExecuteTime": {
          "end_time": "2023-09-06T02:11:16.850898+00:00",
          "start_time": "2023-09-06T02:11:16.146917+00:00"
        }
      },
      "execution_count": null,
      "source": "resp = query_starpoint(\"how big are Balors?\")\nprint(resp)",
      "outputs": []
    }
  ]
}