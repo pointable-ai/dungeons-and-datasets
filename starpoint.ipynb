{
  "nbformat": 4,
  "nbformat_minor": 5,
  "metadata": {
    "kernel_info": {
      "name": "python3"
    },
    "kernelspec": {
      "display_name": "Python 3.9",
      "language": "python",
      "name": "python3"
    },
    "selected_hardware_size": "small"
  },
  "cells": [
    {
      "id": "7ce5525b-8eb4-4b31-a8ff-6652fe47cfde",
      "cell_type": "code",
      "metadata": {
        "jupyter": {
          "outputs_hidden": false,
          "source_hidden": false
        },
        "noteable": {
          "cell_type": "code"
        }
      },
      "execution_count": null,
      "source": "%pip install -U starpoint",
      "outputs": []
    },
    {
      "id": "7d53b6d5-065a-4e80-8dc3-ece9d55c4d56",
      "cell_type": "code",
      "metadata": {
        "jupyter": {
          "outputs_hidden": false,
          "source_hidden": false
        },
        "noteable": {
          "cell_type": "code",
          "output_collection_id": "1dcb4912-600c-4666-aa17-e92ab983aed1"
        },
        "ExecuteTime": {
          "end_time": "2023-09-06T01:02:06.172965+00:00",
          "start_time": "2023-09-06T01:02:06.014872+00:00"
        }
      },
      "execution_count": null,
      "source": "import os \nOPENAI_API_KEY = os.environ[\"OPENAI_API_KEY\"]\nSTARPOINT_API_KEY = os.environ[\"STARPOINT_API_KEY\"]",
      "outputs": []
    },
    {
      "id": "a30d2456-3c9c-4fe1-afcb-5a19a5ebebb6",
      "cell_type": "code",
      "metadata": {
        "jupyter": {
          "outputs_hidden": false,
          "source_hidden": false
        },
        "noteable": {
          "cell_type": "code"
        }
      },
      "execution_count": null,
      "source": "import json\n\ndocuments = []\n\nwith open('./monster_text.json') as f:\n    documents = json.loads(f)\n\n\nfor doc in documents\n\n",
      "outputs": []
    },
    {
      "id": "09a16449-8701-444f-9ab6-f0d453fa509d",
      "cell_type": "code",
      "metadata": {
        "jupyter": {
          "outputs_hidden": false,
          "source_hidden": false
        },
        "noteable": {
          "cell_type": "code",
          "output_collection_id": "bdae94bc-4509-43de-af9b-0956d2d1785b"
        },
        "ExecuteTime": {
          "end_time": "2023-09-06T01:02:33.380797+00:00",
          "start_time": "2023-09-06T01:02:33.194085+00:00"
        }
      },
      "execution_count": null,
      "source": "from requests import requests\n\nEMBEDDING_URL = \"https://scholar.starpoint.ai/api/v1/embed\"\nheader = {\"x-starpoint-key\": STARPOINT_API_KEY}\n\nquestion = \"how big is an aerosaur?\"\nembed_resp = requests.post(EMBEDDING_URL, header=header, json={\"text\": [question]})\nprint(embed_resp.content)",
      "outputs": []
    }
  ]
}