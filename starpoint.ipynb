{
  "nbformat": 4,
  "nbformat_minor": 5,
  "metadata": {
    "kernel_info": {
      "name": "python3"
    },
    "kernelspec": {
      "display_name": "Python 3.9",
      "language": "python",
      "name": "python3"
    },
    "selected_hardware_size": "small-gpu"
  },
  "cells": [
    {
      "id": "7ce5525b-8eb4-4b31-a8ff-6652fe47cfde",
      "cell_type": "code",
      "metadata": {
        "jupyter": {
          "outputs_hidden": true,
          "source_hidden": false
        },
        "noteable": {
          "cell_type": "code",
          "output_collection_id": "843c65b9-609a-48a7-b51e-2af38d87b8f4"
        },
        "ExecuteTime": {
          "end_time": "2023-09-08T18:17:52.823424+00:00",
          "start_time": "2023-09-08T18:17:06.527372+00:00"
        }
      },
      "execution_count": null,
      "source": "%pip install -U starpoint openai sentence-transformers tokenizers",
      "outputs": []
    },
    {
      "id": "7d53b6d5-065a-4e80-8dc3-ece9d55c4d56",
      "cell_type": "code",
      "metadata": {
        "jupyter": {
          "outputs_hidden": false,
          "source_hidden": false
        },
        "noteable": {
          "cell_type": "code",
          "output_collection_id": "ff12c4ed-d731-4772-9d6f-6c04754dbe43"
        },
        "ExecuteTime": {
          "end_time": "2023-09-08T18:18:04.247080+00:00",
          "start_time": "2023-09-08T18:18:04.091151+00:00"
        }
      },
      "execution_count": null,
      "source": "import os \nOPENAI_API_KEY = os.environ[\"OPENAI_API_KEY\"]\nSTARPOINT_API_KEY = os.environ[\"STARPOINT_API_KEY\"]",
      "outputs": []
    },
    {
      "id": "812f7537-e0db-4b68-bdf7-09d184ffb832",
      "cell_type": "code",
      "metadata": {
        "jupyter": {
          "outputs_hidden": false,
          "source_hidden": false
        },
        "noteable": {
          "cell_type": "code"
        }
      },
      "execution_count": null,
      "source": "def embed(texts):\n    from sentence_transformers import SentenceTransformer\n    model = SentenceTransformer('sentence-transformers/all-MiniLM-L6-v2')\n    return model.encode(texts)\n\ndef prompt_openai(prompt):\n    return openai.ChatCompletion.create(\n        model=\"gpt-3.5-turbo\",\n        messages=[{\"role\": \"user\", \"content\": prompt}]\n    )[\"choices\"][0][\"message\"][\"content\"]\n",
      "outputs": []
    },
    {
      "id": "a30d2456-3c9c-4fe1-afcb-5a19a5ebebb6",
      "cell_type": "code",
      "metadata": {
        "jupyter": {
          "outputs_hidden": false,
          "source_hidden": false
        },
        "noteable": {
          "cell_type": "code",
          "output_collection_id": "a0b79d4e-e50b-463b-9697-b32308aa809e"
        },
        "ExecuteTime": {
          "end_time": "2023-09-08T18:21:39.553907+00:00",
          "start_time": "2023-09-08T18:21:24.451175+00:00"
        },
        "scrolled": false
      },
      "execution_count": null,
      "source": "import json\nimport requests\nfrom starpoint.embedding import EmbeddingClient, EmbeddingModel\nfrom tokenizers import Tokenizer\n\nembedding_client = EmbeddingClient(api_key=STARPOINT_API_KEY)\n\nEMBEDDING_URL = \"https://scholar.starpoint.ai/api/v1/embed\"\n\ntokenizer = Tokenizer.from_pretrained(\"bert-base-cased\")\n\nwith open('./monster_text.json') as f:\n    monster_texts = json.load(f)\n\ndocuments_to_upload = []\nembeddings = embed([monster[\"text\"] for monster in monster_texts])\n\nfor index, monster in enumerate(monster_texts):\n    documents_to_upload.append({\n        \"embedding\": embeddings[index].tolist(),\n        \"metadata\": monster\n    })\nprint(documents_to_upload[:10])",
      "outputs": []
    },
    {
      "id": "1c6791f3-75fa-4c59-8e8c-6a039dc1bf1c",
      "cell_type": "code",
      "metadata": {
        "jupyter": {
          "outputs_hidden": true,
          "source_hidden": false
        },
        "noteable": {
          "cell_type": "code",
          "output_collection_id": "f31e2317-86f5-4684-98e3-fa364fcec484"
        },
        "ExecuteTime": {
          "end_time": "2023-09-08T18:22:38.152440+00:00",
          "start_time": "2023-09-08T18:22:32.939117+00:00"
        }
      },
      "execution_count": null,
      "source": "import copy\nfrom starpoint.db import Client\n\nCOLLECTION_NAME = \"dnd\"\n\nclient = Client(api_key=STARPOINT_API_KEY)\nclient.insert(documents=documents_to_upload, collection_name=COLLECTION_NAME)",
      "outputs": []
    },
    {
      "id": "09a16449-8701-444f-9ab6-f0d453fa509d",
      "cell_type": "code",
      "metadata": {
        "jupyter": {
          "outputs_hidden": false,
          "source_hidden": false
        },
        "noteable": {
          "cell_type": "code",
          "output_collection_id": "75b6fe9f-09aa-463c-825a-ea6b344eda15"
        },
        "ExecuteTime": {
          "end_time": "2023-09-06T01:54:49.563716+00:00",
          "start_time": "2023-09-06T01:54:48.699342+00:00"
        }
      },
      "execution_count": null,
      "source": "import requests\n\nEMBEDDING_URL = \"https://scholar.starpoint.ai/api/v1/embed\"\nheaders = {\"x-starpoint-key\": STARPOINT_API_KEY}\n\nquestion = \"how big is an aerosaur?\"\nembed_resp = embed([question])\n\n# query_embedding = embed_resp.json()[\"results\"][0][\"embedding\"]\nquery_embedding = embed_resp[0]\n\n",
      "outputs": []
    },
    {
      "id": "a52aed8e-0c43-43a8-80f3-7a97aed06b03",
      "cell_type": "code",
      "metadata": {
        "jupyter": {
          "outputs_hidden": false,
          "source_hidden": false
        },
        "noteable": {
          "cell_type": "code",
          "output_collection_id": "ceb5f29d-d16e-433a-919b-d764541c939e"
        },
        "ExecuteTime": {
          "end_time": "2023-09-06T02:11:43.688577+00:00",
          "start_time": "2023-09-06T02:11:42.785477+00:00"
        }
      },
      "execution_count": null,
      "source": "from sentence_transformers import SentenceTransformer\n# from llama_cpp import Llama\nfrom starpoint.db import Client\n\nCOLLECTION_ID = '21643fcc-8620-49db-abb2-8b18116567f4'\nstarpoint_client = Client(api_key=STARPOINT_API_KEY)\nGGML_MODEL_PATH = \"./model/model.bin\"\n\n# llm = Llama(model_path=GGML_MODEL_PATH)\n\ndef query_starpoint(text):\n    query_embedding = model.encode(text).tolist()\n    relevant_monsters = starpoint_client.query(\n        collection_id=COLLECTION_ID,\n        query_embedding=query_embedding,\n        sql=\"SELECT * FROM collection LIMIT 10\"\n    )\n    return relevant_monsters\n",
      "outputs": []
    },
    {
      "id": "782c3db2-33de-4492-a363-8cd3f27de50d",
      "cell_type": "code",
      "metadata": {
        "jupyter": {
          "outputs_hidden": false,
          "source_hidden": false
        },
        "noteable": {
          "cell_type": "code",
          "output_collection_id": "e588f270-1e63-4e40-9d7e-23c90a7a5cb3"
        },
        "ExecuteTime": {
          "end_time": "2023-09-06T02:12:26.333811+00:00",
          "start_time": "2023-09-06T02:12:25.239967+00:00"
        }
      },
      "execution_count": null,
      "source": "resp = query_starpoint(\"where are Balors found?\")\nprint(resp)",
      "outputs": []
    }
  ]
}