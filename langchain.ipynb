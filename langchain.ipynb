{
  "nbformat": 4,
  "nbformat_minor": 5,
  "metadata": {
    "kernel_info": {
      "name": "python3"
    },
    "kernelspec": {
      "display_name": "Python 3.9",
      "language": "python",
      "name": "python3"
    },
    "selected_hardware_size": "small"
  },
  "cells": [
    {
      "id": "d0128fdb-f7ce-46be-a54e-3e19bd57f1f7",
      "cell_type": "code",
      "metadata": {
        "jupyter": {
          "outputs_hidden": false,
          "source_hidden": false
        },
        "noteable": {
          "cell_type": "code"
        }
      },
      "execution_count": null,
      "source": "%pip install -U langchain",
      "outputs": []
    },
    {
      "id": "2d76ce1c",
      "cell_type": "code",
      "metadata": {},
      "execution_count": null,
      "source": "from langchain.document_loaders import JSONLoader\n\nloader = JSONLoader(\n    file_path='./monster_text.json')\ndata = loader.load()\n\n",
      "outputs": []
    }
  ]
}