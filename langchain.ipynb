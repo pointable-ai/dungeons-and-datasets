{
  "nbformat": 4,
  "nbformat_minor": 5,
  "metadata": {
    "kernel_info": {
      "name": "python3"
    },
    "kernelspec": {
      "display_name": "Python 3.9",
      "language": "python",
      "name": "python3"
    },
    "selected_hardware_size": "small"
  },
  "cells": [
    {
      "id": "d0128fdb-f7ce-46be-a54e-3e19bd57f1f7",
      "cell_type": "code",
      "metadata": {
        "jupyter": {
          "outputs_hidden": false,
          "source_hidden": false
        },
        "noteable": {
          "cell_type": "code",
          "output_collection_id": null
        },
        "ExecuteTime": {
          "end_time": "2023-09-05T23:20:03.350952+00:00",
          "start_time": "2023-09-05T23:20:00.295973+00:00"
        }
      },
      "execution_count": null,
      "source": "%pip install -U langchain jq",
      "outputs": []
    },
    {
      "id": "2d76ce1c",
      "cell_type": "code",
      "metadata": {
        "noteable": {
          "output_collection_id": null
        },
        "ExecuteTime": {
          "end_time": "2023-09-05T23:32:50.712446+00:00",
          "start_time": "2023-09-05T23:32:50.310256+00:00"
        },
        "scrolled": false
      },
      "execution_count": null,
      "source": "from langchain.document_loaders import JSONLoader\nfrom pprint import pprint\n\nfields = [\"trait\", \"action\", ]\n\ntrait_loader = JSONLoader(\n    file_path='./monster_text.json', jq_schema='keys[] as $k | \"\\($k), \\(.[$k] | .trait)\"')\ntrait_data = trait_loader.load()\n\naction_loader = JSONLoader(\n    file_path='./monster_text.json', jq_schema='keys[] as $k | \"\\($k), \\(.[$k] | .action)\"')\naction_data = action_loader.load()\n\ntrait_loader = JSONLoader(\n    file_path='./monster_text.json', jq_schema='keys[] as $k | \"\\($k), \\(.[$k] | .trait)\"')\ntrait_data = trait_loader.load()\n\n\npprint(data)\n\n",
      "outputs": []
    }
  ]
}