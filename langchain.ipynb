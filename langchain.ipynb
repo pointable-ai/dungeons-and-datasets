{
  "nbformat": 4,
  "nbformat_minor": 5,
  "metadata": {
    "kernel_info": {
      "name": "python3"
    },
    "kernelspec": {
      "display_name": "Python 3.9",
      "language": "python",
      "name": "python3"
    },
    "selected_hardware_size": "small"
  },
  "cells": [
    {
      "id": "d0128fdb-f7ce-46be-a54e-3e19bd57f1f7",
      "cell_type": "code",
      "metadata": {
        "jupyter": {
          "outputs_hidden": false,
          "source_hidden": false
        },
        "noteable": {
          "cell_type": "code",
          "output_collection_id": "aca2680e-f1fd-453c-b2e9-a65ee97b9623"
        },
        "ExecuteTime": {
          "end_time": "2023-09-06T00:16:17.681574+00:00",
          "start_time": "2023-09-06T00:15:50.674737+00:00"
        }
      },
      "execution_count": null,
      "source": "%pip install -U langchain jq openai chromadb",
      "outputs": []
    },
    {
      "id": "306a9bd9-6e80-44f8-8ad5-9f6b969386cf",
      "cell_type": "code",
      "metadata": {
        "jupyter": {
          "outputs_hidden": false,
          "source_hidden": false
        },
        "noteable": {
          "cell_type": "code",
          "output_collection_id": "52f4060a-6899-4162-98dc-b13568711ab8"
        },
        "ExecuteTime": {
          "end_time": "2023-09-06T00:05:13.120340+00:00",
          "start_time": "2023-09-06T00:05:12.964887+00:00"
        }
      },
      "execution_count": null,
      "source": "def metadata_func(record: dict, metadata: dict) -> dict:\n\n    metadata[\"monster_source\"] = record.get(\"monster_source\")\n    metadata[\"monster_name\"] = record.get(\"monster_name\")\n    metadata[\"field\"] = record.get(\"field\")\n\n    return metadata",
      "outputs": []
    },
    {
      "id": "2d76ce1c",
      "cell_type": "code",
      "metadata": {
        "noteable": {
          "output_collection_id": "c85ccf44-8306-44a8-9973-ca39ef4e31d8"
        },
        "ExecuteTime": {
          "end_time": "2023-09-06T00:06:38.271029+00:00",
          "start_time": "2023-09-06T00:06:37.252600+00:00"
        },
        "scrolled": false,
        "jupyter": {
          "outputs_hidden": true
        }
      },
      "execution_count": null,
      "source": "from langchain.document_loaders import JSONLoader\nfrom pprint import pprint\n\njq_schema = f'.[]'\nloader = JSONLoader(\n    file_path='./monster_text.json', jq_schema=jq_schema, content_key=\"text\", metadata_func=metadata_func)\ndocuments = loader.load()\n\npprint(documents)\n",
      "outputs": []
    },
    {
      "id": "80ff4e93-d660-46ba-8060-8489f0c1aca9",
      "cell_type": "code",
      "metadata": {
        "jupyter": {
          "outputs_hidden": true,
          "source_hidden": false
        },
        "noteable": {
          "cell_type": "code",
          "output_collection_id": "fa8ec05c-b084-4ac3-bde4-1b8638c066fe"
        },
        "ExecuteTime": {
          "end_time": "2023-09-06T00:15:09.088720+00:00",
          "start_time": "2023-09-06T00:15:06.496288+00:00"
        }
      },
      "execution_count": null,
      "source": "from langchain.text_splitter import RecursiveCharacterTextSplitter\n\ntext_splitter = RecursiveCharacterTextSplitter(\n    # Set a really small chunk size, just to show.\n    chunk_size = 100,\n    chunk_overlap  = 20,\n    length_function = len,\n    add_start_index = True,\n)\nall_splits = text_splitter.split_documents(documents)\npprint(all_splits)",
      "outputs": []
    },
    {
      "id": "973f0c42-3109-4273-8b5e-083163e3e323",
      "cell_type": "code",
      "metadata": {
        "noteable": {
          "assign_results_to": "sql_df_1",
          "cell_type": "sql",
          "db_connection": "@noteable",
          "output_collection_id": "03be8a59-a04f-45a6-b7c5-2a6d1669e7a2"
        },
        "ExecuteTime": {
          "end_time": "2023-09-06T00:15:15.424187+00:00",
          "start_time": "2023-09-06T00:15:14.443038+00:00"
        }
      },
      "execution_count": null,
      "source": "from langchain.embeddings import OpenAIEmbeddings\nfrom langchain.vectorstores import Chroma\n\nvectorstore = Chroma.from_documents(documents=all_splits, embedding=OpenAIEmbeddings())",
      "outputs": []
    }
  ]
}