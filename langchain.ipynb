{
  "nbformat": 4,
  "nbformat_minor": 5,
  "metadata": {
    "kernel_info": {
      "name": "python3"
    },
    "kernelspec": {
      "display_name": "Python 3.9",
      "language": "python",
      "name": "python3"
    },
    "selected_hardware_size": "small"
  },
  "cells": [
    {
      "id": "d0128fdb-f7ce-46be-a54e-3e19bd57f1f7",
      "cell_type": "code",
      "metadata": {
        "jupyter": {
          "outputs_hidden": false,
          "source_hidden": false
        },
        "noteable": {
          "cell_type": "code",
          "output_collection_id": "c148201d-66dc-442f-b2b9-95e6e1b7b566"
        },
        "ExecuteTime": {
          "end_time": "2023-09-06T00:23:57.254387+00:00",
          "start_time": "2023-09-06T00:23:53.804537+00:00"
        },
        "scrolled": false
      },
      "execution_count": null,
      "source": "%pip install -U langchain jq openai chromadb tiktoken",
      "outputs": []
    },
    {
      "id": "f88a7a4e-bac3-46ec-9c0d-f4d9c3185f07",
      "cell_type": "code",
      "metadata": {
        "jupyter": {
          "outputs_hidden": false,
          "source_hidden": false
        },
        "noteable": {
          "cell_type": "code",
          "output_collection_id": "43969b01-18eb-41d6-8e22-accad92c5018"
        },
        "ExecuteTime": {
          "end_time": "2023-09-06T00:24:09.149257+00:00",
          "start_time": "2023-09-06T00:24:08.993721+00:00"
        }
      },
      "execution_count": null,
      "source": "import os \nOPENAI_API_KEY = os.environ[\"OPENAI_API_KEY\"]",
      "outputs": []
    },
    {
      "id": "306a9bd9-6e80-44f8-8ad5-9f6b969386cf",
      "cell_type": "code",
      "metadata": {
        "jupyter": {
          "outputs_hidden": false,
          "source_hidden": false
        },
        "noteable": {
          "cell_type": "code",
          "output_collection_id": "972c8538-f62e-4dfc-a7b2-cc1cee0fc7b6"
        },
        "ExecuteTime": {
          "end_time": "2023-09-06T00:24:09.312234+00:00",
          "start_time": "2023-09-06T00:24:09.154562+00:00"
        }
      },
      "execution_count": null,
      "source": "def metadata_func(record: dict, metadata: dict) -> dict:\n\n    metadata[\"monster_source\"] = record.get(\"monster_source\")\n    metadata[\"monster_name\"] = record.get(\"monster_name\")\n    metadata[\"field\"] = record.get(\"field\")\n\n    return metadata",
      "outputs": []
    },
    {
      "id": "2d76ce1c",
      "cell_type": "code",
      "metadata": {
        "noteable": {
          "output_collection_id": "c03fdc35-6700-4021-bd72-5418900ebc22"
        },
        "ExecuteTime": null,
        "scrolled": false,
        "jupyter": {
          "outputs_hidden": true
        }
      },
      "execution_count": null,
      "source": "from langchain.document_loaders import JSONLoader\nfrom pprint import pprint\n\njq_schema = f'.[]'\nloader = JSONLoader(\n    file_path='./monster_text.json', jq_schema=jq_schema, content_key=\"text\", metadata_func=metadata_func)\ndocuments = loader.load()\n\npprint(documents)\n",
      "outputs": []
    },
    {
      "id": "80ff4e93-d660-46ba-8060-8489f0c1aca9",
      "cell_type": "code",
      "metadata": {
        "jupyter": {
          "outputs_hidden": true,
          "source_hidden": false
        },
        "noteable": {
          "cell_type": "code",
          "output_collection_id": "45e913cc-9702-4bca-b9aa-caa196774944"
        },
        "ExecuteTime": {
          "end_time": "2023-09-06T00:23:39.886916+00:00",
          "start_time": "2023-09-06T00:23:39.732038+00:00"
        }
      },
      "execution_count": null,
      "source": "# from langchain.text_splitter import RecursiveCharacterTextSplitter\n\n# text_splitter = RecursiveCharacterTextSplitter(\n#     # Set a really small chunk size, just to show.\n#     chunk_size = 100,\n#     chunk_overlap  = 20,\n#     length_function = len,\n#     add_start_index = True,\n# )\n# all_splits = text_splitter.split_documents(documents)\n# pprint(all_splits)",
      "outputs": []
    },
    {
      "id": "973f0c42-3109-4273-8b5e-083163e3e323",
      "cell_type": "code",
      "metadata": {
        "noteable": {
          "cell_type": "python",
          "output_collection_id": "babea1bc-1149-459d-be89-fb3ae2086315"
        },
        "ExecuteTime": {
          "end_time": "2023-09-06T00:23:40.957627+00:00",
          "start_time": "2023-09-06T00:23:40.340458+00:00"
        }
      },
      "execution_count": null,
      "source": "from langchain.embeddings import OpenAIEmbeddings\nfrom langchain.vectorstores import Chroma\n\nvectorstore = Chroma.from_documents(documents=documents, embedding=OpenAIEmbeddings())",
      "outputs": []
    }
  ]
}