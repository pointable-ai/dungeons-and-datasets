{
  "nbformat": 4,
  "nbformat_minor": 5,
  "metadata": {
    "kernel_info": {
      "name": "python3"
    },
    "kernelspec": {
      "display_name": "Python 3.9",
      "language": "python",
      "name": "python3"
    },
    "selected_hardware_size": "small"
  },
  "cells": [
    {
      "id": "d0128fdb-f7ce-46be-a54e-3e19bd57f1f7",
      "cell_type": "code",
      "metadata": {
        "jupyter": {
          "outputs_hidden": false,
          "source_hidden": false
        },
        "noteable": {
          "cell_type": "code",
          "output_collection_id": "0fbd9fec-49bc-4697-9c58-477ef03121b7"
        },
        "ExecuteTime": {
          "end_time": "2023-09-06T00:19:31.571638+00:00",
          "start_time": "2023-09-06T00:19:03.068447+00:00"
        }
      },
      "execution_count": null,
      "source": "%pip install -U langchain jq openai chromadb",
      "outputs": []
    },
    {
      "id": "f88a7a4e-bac3-46ec-9c0d-f4d9c3185f07",
      "cell_type": "code",
      "metadata": {
        "jupyter": {
          "outputs_hidden": false,
          "source_hidden": false
        },
        "noteable": {
          "cell_type": "code",
          "output_collection_id": "89ca122a-dff8-4ab3-8695-af4a3eaa02a5"
        },
        "ExecuteTime": {
          "end_time": "2023-09-06T00:22:48.172691+00:00",
          "start_time": "2023-09-06T00:22:48.018640+00:00"
        }
      },
      "execution_count": null,
      "source": "import os \nOPENAI_API_KEY = os.environ[\"OPENAI_API_KEY\"]",
      "outputs": []
    },
    {
      "id": "306a9bd9-6e80-44f8-8ad5-9f6b969386cf",
      "cell_type": "code",
      "metadata": {
        "jupyter": {
          "outputs_hidden": false,
          "source_hidden": false
        },
        "noteable": {
          "cell_type": "code",
          "output_collection_id": "9faef20b-efc7-44df-bf22-cfa4ab83ad47"
        },
        "ExecuteTime": {
          "end_time": "2023-09-06T00:22:52.613029+00:00",
          "start_time": "2023-09-06T00:22:52.457897+00:00"
        }
      },
      "execution_count": null,
      "source": "def metadata_func(record: dict, metadata: dict) -> dict:\n\n    metadata[\"monster_source\"] = record.get(\"monster_source\")\n    metadata[\"monster_name\"] = record.get(\"monster_name\")\n    metadata[\"field\"] = record.get(\"field\")\n\n    return metadata",
      "outputs": []
    },
    {
      "id": "2d76ce1c",
      "cell_type": "code",
      "metadata": {
        "noteable": {
          "output_collection_id": "3617ed00-01de-43e0-ad3a-fd0648f5dfb4"
        },
        "ExecuteTime": {
          "end_time": "2023-09-06T00:22:53.808724+00:00",
          "start_time": "2023-09-06T00:22:53.636260+00:00"
        },
        "scrolled": false,
        "jupyter": {
          "outputs_hidden": true
        }
      },
      "execution_count": null,
      "source": "from langchain.document_loaders import JSONLoader\nfrom pprint import pprint\n\njq_schema = f'.[]'\nloader = JSONLoader(\n    file_path='./monster_text.json', jq_schema=jq_schema, content_key=\"text\", metadata_func=metadata_func)\ndocuments = loader.load()\n\npprint(documents)\n",
      "outputs": []
    },
    {
      "id": "80ff4e93-d660-46ba-8060-8489f0c1aca9",
      "cell_type": "code",
      "metadata": {
        "jupyter": {
          "outputs_hidden": true,
          "source_hidden": false
        },
        "noteable": {
          "cell_type": "code",
          "output_collection_id": "c34b1efa-41f2-4c61-a46e-3ae54c1c2cbc"
        },
        "ExecuteTime": null
      },
      "execution_count": null,
      "source": "# from langchain.text_splitter import RecursiveCharacterTextSplitter\n\n# text_splitter = RecursiveCharacterTextSplitter(\n#     # Set a really small chunk size, just to show.\n#     chunk_size = 100,\n#     chunk_overlap  = 20,\n#     length_function = len,\n#     add_start_index = True,\n# )\n# all_splits = text_splitter.split_documents(documents)\n# pprint(all_splits)",
      "outputs": []
    },
    {
      "id": "973f0c42-3109-4273-8b5e-083163e3e323",
      "cell_type": "code",
      "metadata": {
        "noteable": {
          "cell_type": "python",
          "output_collection_id": "132bc5ee-f66c-44a1-b88e-6cdb292eae3a"
        },
        "ExecuteTime": {
          "end_time": "2023-09-06T00:22:46.145063+00:00",
          "start_time": "2023-09-06T00:22:45.980099+00:00"
        }
      },
      "execution_count": null,
      "source": "from langchain.embeddings import OpenAIEmbeddings\nfrom langchain.vectorstores import Chroma\n\nvectorstore = Chroma.from_documents(documents=documents, embedding=OpenAIEmbeddings())",
      "outputs": []
    }
  ]
}