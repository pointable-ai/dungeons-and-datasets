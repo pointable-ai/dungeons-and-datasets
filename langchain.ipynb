{
  "nbformat": 4,
  "nbformat_minor": 5,
  "metadata": {
    "kernel_info": {
      "name": "python3"
    },
    "kernelspec": {
      "display_name": "Python 3.9",
      "language": "python",
      "name": "python3"
    },
    "selected_hardware_size": "small"
  },
  "cells": [
    {
      "id": "d0128fdb-f7ce-46be-a54e-3e19bd57f1f7",
      "cell_type": "code",
      "metadata": {
        "jupyter": {
          "outputs_hidden": false,
          "source_hidden": false
        },
        "noteable": {
          "cell_type": "code",
          "output_collection_id": "74a437ae-6f57-4e67-91b4-01cb25989c5e"
        },
        "ExecuteTime": {
          "end_time": "2023-09-05T23:20:03.350952+00:00",
          "start_time": "2023-09-05T23:20:00.295973+00:00"
        }
      },
      "execution_count": null,
      "source": "%pip install -U langchain jq",
      "outputs": []
    },
    {
      "id": "2d76ce1c",
      "cell_type": "code",
      "metadata": {
        "noteable": {
          "output_collection_id": "08ce6668-b505-4acf-81da-48b9fdb73254"
        },
        "ExecuteTime": {
          "end_time": "2023-09-05T23:28:54.443366+00:00",
          "start_time": "2023-09-05T23:28:54.251528+00:00"
        }
      },
      "execution_count": null,
      "source": "from langchain.document_loaders import JSONLoader\nfrom pprint import pprint\n\nloader = JSONLoader(\n    file_path='./monster_text.json', jq_schema='.Ancient Deep Crow-AI[].text')\ndata = loader.load()\n\n",
      "outputs": []
    }
  ]
}