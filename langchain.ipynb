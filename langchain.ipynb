{
  "nbformat": 4,
  "nbformat_minor": 5,
  "metadata": {
    "kernel_info": {
      "name": "python3"
    },
    "kernelspec": {
      "display_name": "Python 3.9",
      "language": "python",
      "name": "python3"
    },
    "selected_hardware_size": "small"
  },
  "cells": [
    {
      "id": "d0128fdb-f7ce-46be-a54e-3e19bd57f1f7",
      "cell_type": "code",
      "metadata": {
        "jupyter": {
          "outputs_hidden": false,
          "source_hidden": false
        },
        "noteable": {
          "cell_type": "code",
          "output_collection_id": null
        },
        "ExecuteTime": {
          "end_time": "2023-09-05T23:20:03.350952+00:00",
          "start_time": "2023-09-05T23:20:00.295973+00:00"
        }
      },
      "execution_count": null,
      "source": "%pip install -U langchain jq",
      "outputs": []
    },
    {
      "id": "306a9bd9-6e80-44f8-8ad5-9f6b969386cf",
      "cell_type": "code",
      "metadata": {
        "jupyter": {
          "outputs_hidden": false,
          "source_hidden": false
        },
        "noteable": {
          "cell_type": "code"
        }
      },
      "execution_count": null,
      "source": "def metadata_func(record: dict, metadata: dict) -> dict:\n\n    metadata[\"monster_s\"] = record.get(\"monster_s\")\n    metadata[\"timestamp_ms\"] = record.get(\"timestamp_ms\")\n\n    if \"source\" in metadata:\n        source = metadata[\"source\"].split(\"/\")\n        source = source[source.index(\"langchain\"):]\n        metadata[\"source\"] = \"/\".join(source)\n\n    return metadata",
      "outputs": []
    },
    {
      "id": "2d76ce1c",
      "cell_type": "code",
      "metadata": {
        "noteable": {
          "output_collection_id": "6a690895-5558-4dea-9232-4d727bd33e2b"
        },
        "ExecuteTime": {
          "end_time": "2023-09-05T23:42:20.015453+00:00",
          "start_time": "2023-09-05T23:42:19.666342+00:00"
        },
        "scrolled": false
      },
      "execution_count": null,
      "source": "from langchain.document_loaders import JSONLoader\nfrom pprint import pprint\n\nfields = [\"trait\", \"action\", \"legendary\", \"bonus\", \"descriptions\"]\ndocuments_by_field = {}\n\nfor field in fields:\n    jq_schema = f'.[].text'\n    loader = JSONLoader(\n        file_path='./monster_text.json', jq_schema=jq_schema, content_key=field)\n    documents_by_field[field] = loader.load()\n\npprint(documents_by_field)\n",
      "outputs": []
    }
  ]
}