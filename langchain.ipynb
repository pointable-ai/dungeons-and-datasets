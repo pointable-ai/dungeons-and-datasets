{
  "nbformat": 4,
  "nbformat_minor": 5,
  "metadata": {
    "kernel_info": {
      "name": "python3"
    },
    "kernelspec": {
      "display_name": "Python 3.9",
      "language": "python",
      "name": "python3"
    },
    "selected_hardware_size": "small"
  },
  "cells": [
    {
      "id": "d0128fdb-f7ce-46be-a54e-3e19bd57f1f7",
      "cell_type": "code",
      "metadata": {
        "jupyter": {
          "outputs_hidden": false,
          "source_hidden": false
        },
        "noteable": {
          "cell_type": "code",
          "output_collection_id": null
        },
        "ExecuteTime": {
          "end_time": "2023-09-05T23:20:03.350952+00:00",
          "start_time": "2023-09-05T23:20:00.295973+00:00"
        }
      },
      "execution_count": null,
      "source": "%pip install -U langchain jq",
      "outputs": []
    },
    {
      "id": "306a9bd9-6e80-44f8-8ad5-9f6b969386cf",
      "cell_type": "code",
      "metadata": {
        "jupyter": {
          "outputs_hidden": false,
          "source_hidden": false
        },
        "noteable": {
          "cell_type": "code",
          "output_collection_id": "f523c875-eade-49de-93b4-b17f0987f60d"
        },
        "ExecuteTime": {
          "end_time": "2023-09-05T23:58:05.052544+00:00",
          "start_time": "2023-09-05T23:58:04.896440+00:00"
        }
      },
      "execution_count": null,
      "source": "def metadata_func(record: dict, metadata: dict) -> dict:\n\n    metadata[\"monster_source\"] = record.get(\"monster_source\")\n    metadata[\"monster_name\"] = record.get(\"monster_name\")\n    metadata[\"field\"] = record.get(\"field\")\n\n    if \"source\" in metadata:\n        source = metadata[\"source\"].split(\"/\")\n        source = source[source.index(\"langchain\"):]\n        metadata[\"source\"] = \"/\".join(source)\n\n    return metadata",
      "outputs": []
    },
    {
      "id": "2d76ce1c",
      "cell_type": "code",
      "metadata": {
        "noteable": {
          "output_collection_id": "c50d9df4-330f-44d2-9d62-65fe851952a0"
        },
        "ExecuteTime": {
          "end_time": "2023-09-05T23:58:06.629601+00:00",
          "start_time": "2023-09-05T23:58:06.275718+00:00"
        },
        "scrolled": false
      },
      "execution_count": null,
      "source": "from langchain.document_loaders import JSONLoader\nfrom pprint import pprint\n\nfields = [\"trait\", \"action\", \"legendary\", \"bonus\", \"descriptions\"]\ndocuments_by_field = {}\n\nfor field in fields:\n    jq_schema = f'.[].text'\n    loader = JSONLoader(\n        file_path='./monster_text.json', jq_schema=jq_schema, content_key=field, metadata_func=metadata_func)\n    documents_by_field[field] = loader.load()\n\npprint(documents_by_field)\n",
      "outputs": []
    }
  ]
}