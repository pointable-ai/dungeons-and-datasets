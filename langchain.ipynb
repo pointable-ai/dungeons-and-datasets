{
  "nbformat": 4,
  "nbformat_minor": 5,
  "metadata": {
    "kernel_info": {
      "name": "python3"
    },
    "kernelspec": {
      "display_name": "Python 3.9",
      "language": "python",
      "name": "python3"
    },
    "selected_hardware_size": "small"
  },
  "cells": [
    {
      "id": "2d76ce1c",
      "cell_type": "code",
      "metadata": {},
      "execution_count": null,
      "source": "from langchain.document_loaders import WebBaseLoader\n\nloader = WebBaseLoader(\"https://lilianweng.github.io/posts/2023-06-23-agent/\")\ndata = loader.load()",
      "outputs": []
    }
  ]
}