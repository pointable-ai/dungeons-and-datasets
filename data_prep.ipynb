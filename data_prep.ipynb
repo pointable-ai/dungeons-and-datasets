{
  "cells": [
    {
      "cell_type": "code",
      "execution_count": 2,
      "metadata": {
        "jupyter": {
          "outputs_hidden": true,
          "source_hidden": false
        },
        "noteable": {
          "output_collection_id": "a9ec594e-27fe-4440-8a1f-ed9f8f529a5c"
        },
        "ExecuteTime": {
          "end_time": "2023-09-05T23:10:25.227986+00:00",
          "start_time": "2023-09-05T23:10:24.388624+00:00"
        },
        "scrolled": false
      },
      "outputs": [],
      "source": [
        "!unzip data.zip -d data/"
      ],
      "id": "0029f60e"
    },
    {
      "cell_type": "code",
      "execution_count": 5,
      "metadata": {
        "noteable": {
          "output_collection_id": "a46ba1c6-b2a5-46fe-8bcc-e360024b01a3"
        },
        "ExecuteTime": {
          "end_time": "2023-09-05T23:10:59.352253+00:00",
          "start_time": "2023-09-05T23:10:59.196784+00:00"
        }
      },
      "outputs": [],
      "source": [
        "# we're going to write a utility function to flatten out the entries\n",
        "# in any given data, this pattern is used often in 5e tools\n",
        "def flatten_entries(data):\n",
        "    # Base case: If data is a string, return it in a list\n",
        "    if isinstance(data, str):\n",
        "        return [data]\n",
        "\n",
        "    # For lists: iterate through each item and flatten\n",
        "    if isinstance(data, list):\n",
        "        result = []\n",
        "        for item in data:\n",
        "            result.extend(flatten_entries(item))\n",
        "        return result\n",
        "\n",
        "    # For dictionaries: look for the \"entries\" key and flatten its content\n",
        "    if isinstance(data, dict):\n",
        "        if \"entries\" in data:\n",
        "            return flatten_entries(data[\"entries\"])\n",
        "        return []\n",
        "    return []"
      ],
      "id": "0a6b39b1"
    },
    {
      "cell_type": "code",
      "execution_count": 6,
      "metadata": {
        "noteable": {
          "output_collection_id": "3a1162d9-08c6-4fcd-bf7f-7496e1982d3b"
        },
        "ExecuteTime": {
          "end_time": "2023-09-05T23:11:06.997091+00:00",
          "start_time": "2023-09-05T23:11:06.659201+00:00"
        }
      },
      "outputs": [],
      "source": [
        "import os\n",
        "import json\n",
        "\n",
        "# list all of the files in the bestiary data directory\n",
        "# filtering out the ones that are fluff or purely metadata\n",
        "# with no relevant monster information\n",
        "base_bestiary_files = list(filter(lambda x: x.startswith('bestiary'), os.listdir('data/bestiary')))\n",
        "\n",
        "# fluff files (monster descriptions are separate from the core data files)\n",
        "# so we're going to join them all together into one big dictionary\n",
        "# keyed on the monster name + source (there are sometimes duplicate names)\n",
        "monsters = {}\n",
        "\n",
        "for base_file in base_bestiary_files: \n",
        "    with open('data/bestiary/' + base_file, 'r') as f:\n",
        "        # json parse the file and then get the monster data\n",
        "        # from the json\n",
        "        monster_data = json.loads(f.read())['monster']\n",
        "\n",
        "        # iterate through the monster data\n",
        "        for monster in monster_data:\n",
        "            key = monster['name'] + '-' + monster['source']\n",
        "            # if the monster name is already in the dictionary\n",
        "            # then we need to merge the data\n",
        "            if key in monster_data:\n",
        "                # merge the data\n",
        "                monsters[key] = {**monsters[key], **monster}\n",
        "            else:\n",
        "                # otherwise just add the data to the dictionary\n",
        "                monsters[key] = monster\n"
      ],
      "id": "8b5cb6c9"
    },
    {
      "cell_type": "code",
      "execution_count": 7,
      "metadata": {
        "noteable": {
          "output_collection_id": "5ece4c60-6f11-49f5-954c-69cf0202a1ee"
        },
        "ExecuteTime": {
          "end_time": "2023-09-05T23:11:09.453029+00:00",
          "start_time": "2023-09-05T23:11:09.274504+00:00"
        }
      },
      "outputs": [],
      "source": [
        "# now we want to get the monster descriptions\n",
        "# and add them to the dictionary\n",
        "for fluff_file in filter(lambda x: x.startswith('fluff-bestiary'), os.listdir('data/bestiary')):\n",
        "    with open('data/bestiary/' + fluff_file, 'r') as f:\n",
        "        fluff_data = json.loads(f.read())['monsterFluff']\n",
        "\n",
        "        # iterate through the fluff data\n",
        "        for fluff in fluff_data:\n",
        "            key = fluff['name'] + '-' + fluff['source']\n",
        "            # if the monster name is already in the dictionary\n",
        "            # then we need to merge the data\n",
        "            if 'entries' in fluff and key in monsters:\n",
        "                # merge the data\n",
        "                monsters[key]['descriptions'] = flatten_entries(fluff['entries'])\n"
      ],
      "id": "75732294"
    },
    {
      "cell_type": "code",
      "execution_count": 8,
      "metadata": {
        "scrolled": false,
        "noteable": {
          "output_collection_id": "efa27ccd-62d1-4a1f-8763-522b75e50edc"
        },
        "ExecuteTime": {
          "end_time": "2023-09-05T23:11:12.882986+00:00",
          "start_time": "2023-09-05T23:11:12.725471+00:00"
        }
      },
      "outputs": [],
      "source": "# print the first 10 monsters\nfor key, value in list(monsters.items())[:10]:\n    # pretty print the monster data\n    print(json.dumps(value, indent=4))",
      "id": "eadfb658"
    },
    {
      "cell_type": "code",
      "execution_count": 9,
      "metadata": {
        "scrolled": false
      },
      "outputs": [
        {
          "name": "stdout",
          "output_type": "stream",
          "text": [
            "Ancient Deep Crow-AI {'trait': 'Magic Resistance\\nThe ancient deep crow has advantage on saving throws against spells and other magical effects.\\nShadow Stealth\\nWhile in dim light or darkness, the ancient deep crow can take the Hide action as a bonus action.\\n', 'action': \"Multiattack\\nThe ancient deep crow makes three attacks: one with its mandibles and two with its claws.\\nMandibles\\n{@atk mw} {@hit 11} to hit, reach 10 ft., one target. {@h}17 ({@damage 2d10 + 6}) piercing damage, and the target is {@condition grappled} (escape {@dc 19}). Until this grapple ends, the target is {@condition restrained}, and the ancient deep crow can't use its mandibles on another target.\\nClaw\\n{@atk mw} {@hit 11} to hit, reach 5 ft., one target. {@h}13 ({@damage 2d6 + 6}) slashing damage.\\nShadow Caw\\nThe ancient deep crow releases an ear-splitting caw. Each creature within 60 feet of the crow and able to hear it must make a {@dc 17} Constitution saving throw. On a failure, a creature takes 10 ({@damage 3d6}) psychic damage.\\n\", 'legendary': 'Detect\\nThe deep crow makes a Wisdom (Perception) check.\\nShadow Caw (Costs 2 Actions)\\nThe ancient deep crow uses Shadow Caw.\\nWing Attack (Costs 2 Actions)\\nThe ancient deep crow beats its wings. Each creature within 10 feet of the deep crow must succeed on a {@dc 19} Dexterity saving throw or take 13 ({@damage 2d6 + 6}) bludgeoning damage and be knocked {@condition prone}. The ancient deep crow can then fly up to half its flying speed.\\n', 'descriptions': 'So little is known of the deep crows that even less is known of their monstrous leviathan cousins, the ancient deep crows. Whether these gargantuan specimens are elder deep crows grown to great size or some higher form that holds lesser deep crows in thrall remains to be determined. Ideally by someone else. Seriously, stay away from these things.\\n'}\n",
            "Auspicia Dran-AI {'action': 'Multiattack\\nAuspicia makes two attacks.\\nLongsword\\n{@atk mw} {@hit 5} to hit, reach 5 ft., one target. {@h}7 ({@damage 1d8 + 3}) slashing damage, or 8 ({@damage 1d10 + 3}) slashing damage if used with two hands.\\nLight Crossbow\\n{@atk rw} {@hit 4} to hit, range 80/320 ft., one target. {@h}6 ({@damage 1d8 + 2}) piercing damage.\\n', 'descriptions': 'The youngest sister of Omin Dran, the half-elf Auspicia Dran had her life torn apart as a child when she was seized by a mysterious creature called the Wandering Crypt. Having spent long years in a kind of dark dream within the crypt, she was saved in the end by her brother Omin\\'s tireless efforts and the valor of his handpicked \"C\" Team. Now returned safely to the world-and with the false Auspicia of the crypt\\'s creation slain-she focuses on trying to discover her own identity and to work through the ongoing complications arising from her ordeal.\\nWhen Auspicia emerged from the Wandering Crypt, she carried within her a growing level of psionic power. She can\\'t help but read others\\' minds, but finds that wearing a diamond earring helps tamp that unwitting ability down. This magic has also left her connected to the crypt in a way she doesn\\'t understand, even as it grants her occasional memories of others still trapped there and an awareness of faraway places. In combat, she manifests an instinctive knowledge of events before they happen, often making use of this ability to bring a fight to a standstill that encourages parley. But she has only just begun to explore her full precognitive potential.\\n'}\n",
            "Brahma Lutier-AI {'trait': \"Fey Ancestry\\nBrahma has advantage on saving throws against being {@condition charmed}, and magic can't put her to sleep.\\nTaunt (2/Day)\\nBrahma can use a bonus action to target one creature she can see within 30 feet of her. If the target can hear Brahma, it must succeed on a {@dc 13} Charisma saving throw or have disadvantage on ability checks, attack rolls, and saving throws until the start of Brahma's next turn.\\n\", 'action': 'War Lute\\n{@atk mw} {@hit 4} to hit, reach 5 ft., one target. {@h}5 ({@damage 1d6 + 2}) slashing damage.\\nSong of Domination (3/Day)\\nBrahma targets one creature that can see or hear her, which must succeed on a {@dc 13} Wisdom saving throw or be {@condition charmed} by her for 1 minute. The target can repeat the save at the end of each of its turns, ending the effect on itself on a success. It has disadvantage on these saves if being {@condition charmed} by Brahma is something the target openly or secretly desires. For 1 hour after the charm effect ends, the target has disadvantage on Intelligence, Wisdom, or Charisma checks made as part of a contest with Brahma.\\n', 'descriptions': 'Formally a former member of the \"B\" Team, Brahma Lutier is a gifted cartographer, spy, and troubadour. Tutored in at least the latter of those vocations by Audra Courtier (wife of Propha Dran and co-owner of the Dran & Courtier inn of Red Larch), Brahma\\'s specialty is a song of domination that is legendarily difficult to resist.\\nHer retirement is said to be connected to a falling out with husband Oak Truestrike, and Brahma has been operating as a solo agent for some time now. Known for a personality that is murderous and cheery in equal part, she utilizes an instrument of dragonborn design in combat. Known as a war lute, this unique item comes replete with hidden storage and powerful weaponry.\\n'}\n",
            "Chaos Quadrapod-AI {'trait': 'Magic Resistance\\nThe chaos quadrapod has advantage on saving throws against spells and other magical effects.\\n', 'action': 'Multiattack\\nThe chaos quadrapod makes up to two tentacle attacks.\\nTentacle\\n{@atk mw} {@hit 6} to hit, reach 15 ft., one target. {@h}11 ({@damage 2d6 + 4}) bludgeoning damage. If the target is a creature, it is {@condition grappled} (escape {@dc 14}). Until this grapple ends, the target is {@condition restrained}. The chaos quadrapod can grapple no more than two targets at a time.\\nChaos Cloud (Recharges after a Short or Long Rest)\\nThe chaos quadrapod shoots forth a knot of roiling ethereal light that explodes at a point it can see within 60 feet of it. Each creature in a 20-foot-radius sphere centered on that point must succeed on a {@dc 14} Charisma saving throw or be {@condition stunned} until the end of its next turn.\\n', 'descriptions': 'A cluster of four suckered tentacles with a pulsing mass of ethereal light as its central body, the chaos quadrapod is a creature of the Far Realm, and it channels the anarchic power of that plane as it destroys all in its path. The quadrapod ambulates by flinging its mucus-covered tentacles out and dragging itself along, creating a horrid slurping sound as it advances relentlessly toward its prey.\\n'}\n",
            "Clockwork Dragon-AI {'trait': 'False Appearance\\nWhile the clockwork dragon remains motionless, it is indistinguishable from a metal statue.\\n', 'action': 'Bite\\n{@atk mw} {@hit 4} to hit, reach 5 ft., one target. {@h}7 ({@damage 1d10 + 2}) piercing damage.\\nFire Breath {@recharge 5}\\nThe clockwork dragon exhales fire in a 15-foot cone. Each creature in that area must make a {@dc 11} Dexterity saving throw, taking 14 ({@damage 4d6}) fire damage on a failed save, or half as much damage on a successful one.\\n', 'descriptions': \"These intricately crafted constructs are typically made to reflect the forms of the metallic dragons. Plated in brass, bronze, copper, or faux gold and silver, they are often taken for fine draconic statues at first glance. A clockwork dragon makes a formidable guardian or defender, with its advanced intellect allowing it to be programmed with a wide range of orders, as well as being capable of wholly independent reactions to potential threats.\\nThough most clockwork dragons have a breath weapon that deals fire damage, some might be constructed to deal acid, cold, or lightning damage, depending on their makers' whims.\\n\"}\n",
            "Deep Crow-AI {'trait': 'Magic Resistance\\nThe deep crow has advantage on saving throws against spells and other magical effects.\\nShadow Stealth\\nWhile in dim light or darkness, the deep crow can take the Hide action as a bonus action.\\nSunlight Sensitivity\\nWhile in sunlight, the deep crow has disadvantage on attack rolls, as well as on Wisdom (Perception) checks that rely on sight.\\n', 'action': \"Multiattack\\nThe deep crow makes three attacks: one with its mandibles and two with its claws.\\nMandibles\\n{@atk mw} {@hit 9} to hit, reach 10 ft., one target. {@h}16 ({@damage 2d10 + 5}) piercing damage, and the target is {@condition grappled} (escape {@dc 17}). Until this grapple ends, the target is {@condition restrained}, and the deep crow can't use its mandibles on another target.\\nClaw\\n{@atk mw} {@hit 9} to hit, reach 5 ft., one target. {@h}12 ({@damage 2d6 + 5}) slashing damage.\\n\", 'descriptions': \"The only warning you'll get is that fearsome, far-off caw, echoing from the darkness like a death knell. For by the time those glowing red eyes fix on you, it's far too late to run...\\nSome adventurers and sages whisper that deep crows were first spawned as the familiars of evil arcane casters, abandoned in the subterranean depths and left to grow to enormous size. Others claim these creatures were once normal crows transmuted by vile essence and viler powers. But one thing all agree on is that ending up a meal for one of these monstrosities is a too-real threat for those who stumble into their deadly lairs.\\nThough the deep crow most immediately resembles a massive version of its namesake bird, this creature is a unique form of avian insect. Seen up close, it can easily be discerned from any other giant bird by its insectoid maw, its four-clawed feet, and the cluster of red eyes that are the most unsettling part of its appearance.\\nThe deep crow's most fearsome attack is the bite of its mandibles, which can seize and hold almost any creature. Their preferred attack is a snatch-and-grab that sees a deep crow flying off with a living victim before its companions have any chance of counterattack. Provided the doomed prey doesn't struggle, the deep crow takes it back to its lair to be devoured at leisure. Creatures that do struggle might be repeatedly dropped from a height to soften them up a bit.\\nDeep crows live alone for an unknown length of years, emerging from the lair only to hunt, to look for potential threats, and to mate. Mating is a once-in-a-lifetime urge that sees each deep crow involved in the pairing produce a cluster of four to eight eggs. Incubation lasts a year, followed by a year during which the fledgling deep crows stay close by their parent's side. The young then set out to establish lairs of their own.\\nThe mindset of these intelligent yet alien creatures is a mystery, but some who have encountered them relate that they are quick to hold a grudge. For years. Of even greater importance, they can teach their chicks to harbor the same resentments, instilling a cross-generational hatred of chosen foes that can last for centuries.\\nDeep crows and ancient deep crows roost in places both deep and warm, favoring sites with access to exposed lava. The spires of volcanic rock the creatures prize as roosts are common in such places, whose ambient warmth provides constant temperature regulation for the creature's eggs.\\n\"}\n",
            "Donaar Blit'zen-AI {'trait': \"Champion Challenge (Recharges after a Short or Long Rest)\\nAs a bonus action, Donaar causes each creature of his choice that he can see within 30 feet of him to make a {@dc 13} Wisdom saving throw. On a failure, a creature can't willingly move more than 30 feet away from Donaar. This effect ends on the creature if Donaar is {@condition incapacitated} or dies, or if the creature is moved more than 30 feet away from him.\\n\", 'action': 'Multiattack\\nDonaar makes two attacks with his greatsword or his whip.\\nGreatsword\\n{@atk mw} {@hit 5} to hit, reach 5 ft., one target. {@h}10 ({@damage 2d6 + 3}) slashing damage. Whenever Donaar rolls a 1 or 2 on a damage die, he can reroll the die and must use the new roll.\\nWhip\\n{@atk mw} {@hit 5} to hit, reach 10 ft., one target. {@h}5 ({@damage 1d4 + 3}) slashing damage.\\nAcid Vomit\\nDonaar regurgitates acid in a 30-foot line that is 5 feet wide. Each creature in that line must make a {@dc 12} Dexterity saving throw, taking 7 ({@damage 2d6}) acid damage on a failed save, or half as much damage on a successful one.\\n', 'descriptions': 'Everybody cooooool out!\\nThe hulking dragonborn decisionist of the \"C\" Team, Donaar Blit\\'zen is an icon of brash confidence and warrior chill. He is known for his furious skill in battle, and for his propensity to fall asleep as soon as a fight is done (as well as countless other inopportune times). More immediately notable is the unique physical trait that all members of his clan bear-a stylish tail that is rare and often considered a deformity among dragonborn.\\nAs with his tail, an odd quirk of heritage makes Donaar\\'s acid breath more of a signature vomiting, giving rise to a driving paranoia that this regurgitation might damage his teeth. As testaments to his obsession with dental hygiene, Donaar named his greatsword Toothbrush and calls his whip Floss. He carries an actual toothbrush (named Percival) and actual floss at all times.\\nThose who know Donaar quickly come to recognize that the braggadocio that defines him involves a certain amount of artifice. When the young dragonborn left his clan and family to adventure in foreign climes, he realized that doing so provided the perfect opportunity to reinvent himself for folk who had no idea what he was once like. As such, Donaar has learned that no amount of bravado and compensation is too much-provided he leaves no openings for strangers to call him on it. By the same token, strangers quickly come to realize that reinforcing Donaar\\'s self-congratulating sense of draconic entitlement makes it remarkably easy to win his favor.\\nDespite his easily massaged vanity, the dragonborn sometimes shows the occasional streak of selflessness. Most notably, Donaar serves in his off-hours as parttime godfather to a young dragonborn named Chronaar, who had inadvertently imprinted on Donaar as a parental figure while he watched over her while she was in her egg.\\n'}\n",
            "Flabbergast-AI {'action': 'Dagger\\n{@atk mw,rw} {@hit 4} to hit, reach 5 ft. or range 20/60 ft., one target. {@h}4 ({@damage 1d4 + 2}) piercing damage.\\n', 'descriptions': \"Not much is known of the mysterious and aloof majordomo of Acquisitions Incorporated Head Office, the mage known as Flabbergast. It's said that he hails from Neverwinter, and that his wealthy family helped erect and carve the famous Dolphin Bridge in that city. Although he detests physical labor, Flabbergast is a bit of a bridge builder in his own way, always striving to bring people together and flexing his diplomatic muscles. A pacifist bureaucrat, he abhors violence, and rarely puts his magical prowess on display.\\nOne thing that is known (though it's seldom spoken of) is that Flabbergast once worked for Dran Enterprises, and specifically for Portentia Dran. He carries a certain amount of guilt around being complicit in certain Dran Enterprises' dealings, and helped Acquisitions Incorporated on the side even before taking up an official role with the company. Though Head Office certainly trusts him, others might wonder where his true loyalties lie.\\nFlabbergast's familiar, Mister Snibbly, uses the cat stat block.\\n\"}\n",
            "Jim Darkmagic-AI {'trait': 'Special Equipment\\nJim carries a {@item wand of wonder}.\\nBenign Transportation (Recharges after Jim Casts a Conjuration Spell of 1st Level or Higher)\\nAs a bonus action, Jim teleports up to 30 feet to a space he can see. The space must be unoccupied or occupied by a willing Small or Medium creature. If the latter, Jim and the willing creature both teleport, swapping places.\\n', 'action': 'Dagger\\n{@atk mw,rw} {@hit 5} to hit, reach 5 ft. or range 20/60 ft., one target. {@h}4 ({@damage 1d4 + 2}) piercing damage.\\nMinor Conjuration\\nJim conjures an inanimate object, no larger than 3 feet on a side and no more than 10 pounds, in his hand or on the ground in an unoccupied space he can see within 10 feet of him. The object is visibly magical, radiating dim light out to 5 feet. It disappears if it takes any damage, after 1 hour, or when Jim uses this feature again.\\n', 'descriptions': 'Have a magical day!\\nJames Winifred Darkmagic III is the scion of a mysterious, multiplanar wizarding family. Jim\\'s arcane pedigree has long preceded him, incorporating equally healthy amounts of magical training and innate eldritch prowess. However, despite a natural talent that could have allowed him to make a name for himself as a court wizard, or perhaps \"that strange old man in the village,\" Jim\\'s original penchant was not for the magic of scroll or spell, but for the stage.\\nAs an entertainer and purveyor of the \"Jim Darkmagic Experience,\" the legendary mage can often be found in markets and town squares, performing feats of mundane legerdemain. The renown he has earned for these feats is nearly equaled by the reputation that follows him as chief arcanist (and occasional arsonist) for Acquisitions Incorporated. And although his skills as an adventurer and real wizard remain highly sought after, Jim looks forward to a well-earned retirement, at which point he hopes to become a \"real wizard\"-by which he means a fake wizard-full time.\\n'}\n",
            "K'thriss Drow'b-AI {'trait': \"Special Equipment\\nK'thriss wears a {@item robe of stars} (accounted for in his statistics). The robe allows him to cast the following spells: 6/day: {@spell magic missile} (7 missiles)\\nAwakened Mind\\nK'thriss can telepathically speak to any creature he can see within 30 feet of him, provided the creature can understand at least one language.\\nFey Ancestry\\nK'thriss has advantage on saving throws against being {@condition charmed}, and magic can't put him to sleep. Sunlight Sensitivity. While in sunlight, K'thriss has disadvantage on attack rolls, as well as on Wisdom (Perception) checks that rely on sight.\\n\", 'action': \"Multiattack\\nK'thriss makes two attacks with his sickle.\\nSickle\\n{@atk mw} {@hit 4} to hit, reach 5 ft., one target. {@h}4 ({@damage 1d4 + 2}) slashing damage.\\n\", 'descriptions': 'All things are divided into meat and mouths-but even a mouth is just meat.\\nThe drow warlock K\\'thriss Drow\\'b cuts a dashing figure as the worldly representative of the Ur-a ravenous, inscrutable, and largely indifferent elder entity from beyond reality. Tapped into this dark power, the \"C\" Team\\'s hoards person sees all existence as a puzzle to unlock, and he is obsessed by the essential lack of meaning and purpose in the structures of so-called \"reality.\" Still, all things considered, he is most often polite and affable. Because after a long adventuring career, he understands that he can\\'t afford to make more enemies.\\nGiven his blue skin tone, rumors suggest that K\\'thriss is of mixed heritage, but no one knows for sure. As a young and doubting adherent of Lolth, he stumbled upon fragments of a relic known as the Black Altar, exposing him to their infinite truths and shocking the drow\\'s hair jet-black. His matching \"beard\" is actually a slow-growing colony of inert spores that K\\'thriss believes makes him look distinguished. Possessed of alarming and asymmetric crystalline eyes, he often wears a blindfold to spare others his visage, seeing through the eyes of his familiar while he does.\\nTentacles play a big part in K\\'thriss\\'s spellcasting, whether wrenching him through the sky when he uses magic to fly, or manifesting in dark, suckered form when he casts spells such as thorn whip. And when enemies hear K\\'thriss whisper the deep truths of the Ur-typically something about how on a geologic time scale, everyone\\'s desires are meaningless-they remember it.\\nK\\'thriss\\'s familiar, Ligotti, is a semisapient remnant of a tentacle attack, spawned by the warlock\\'s intercessor patron god. Though entirely alien to the material plane (and often appearing in the form of a staff), Ligotti uses the stat block of a poisonous snake with these changes:\\n'}\n"
          ]
        }
      ],
      "source": [
        "from collections import defaultdict\n",
        "\n",
        "monster_texts = defaultdict(dict)\n",
        "\n",
        "def add_text_to_embed(key, field, monster_entry):\n",
        "    text = \"\"\n",
        "    for trait in monster_entry.get(field):\n",
        "        if type(trait) == str:\n",
        "            text += trait + \"\\n\"\n",
        "            continue\n",
        "        if trait.get(\"name\") is not None:\n",
        "            text += trait[\"name\"] + \"\\n\"\n",
        "        for entry in trait[\"entries\"]:\n",
        "            text += \"\\n\".join(flatten_entries(entry)) + \"\\n\"\n",
        "    monster_texts[key][field] = text\n",
        "\n",
        "for key, monster in monsters.items():\n",
        "    for field in [\"trait\", \"action\", \"legendary\", \"bonus\", \"descriptions\"]:\n",
        "        if field in monster and monster[field] is not None:\n",
        "            add_text_to_embed(key, field, monster)\n",
        "\n",
        "for key, value in list(monster_texts.items())[:10]:\n",
        "    print(key, value)"
      ],
      "id": "42a0408d"
    },
    {
      "cell_type": "markdown",
      "metadata": {},
      "source": [
        "Dump the monster text to be separately processed"
      ],
      "id": "f4703a07"
    },
    {
      "cell_type": "code",
      "execution_count": 11,
      "metadata": {},
      "outputs": [],
      "source": [
        "with open(\"./monster_text.json\", \"w\") as fp:\n",
        "    json.dump(monster_texts, fp)"
      ],
      "id": "45bb2e91"
    }
  ],
  "metadata": {
    "kernelspec": {
      "display_name": "Python 3.9",
      "language": "python",
      "name": "python3"
    },
    "language_info": {
      "codemirror_mode": {
        "name": "ipython",
        "version": 3
      },
      "file_extension": ".py",
      "mimetype": "text/x-python",
      "name": "python",
      "nbconvert_exporter": "python",
      "pygments_lexer": "ipython3",
      "version": "3.11.4"
    },
    "orig_nbformat": 4,
    "selected_hardware_size": "small",
    "kernel_info": {
      "name": "python3"
    }
  },
  "nbformat": 4,
  "nbformat_minor": 5
}